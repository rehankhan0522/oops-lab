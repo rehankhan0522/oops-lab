{
 "cells": [
  {
   "cell_type": "markdown",
   "id": "5f028d48-d99c-42a3-8916-fa290cd767d1",
   "metadata": {},
   "source": [
    "## <p style=\"color:blue ;font-size:30px;font-family:Algerian ;text-align:center;\">Lab Title: EE:271 \"OOP & Data Structures\""
   ]
  },
  {
   "cell_type": "markdown",
   "id": "24526016-2a84-4839-93ed-7d2c2cf39905",
   "metadata": {},
   "source": [
    "#                                               OOP LAB REPORT TASKS(LAB 2)"
   ]
  },
  {
   "cell_type": "markdown",
   "id": "2384040f-d979-4851-a5a3-d95d28d26f35",
   "metadata": {},
   "source": [
    "## 1)Define a function that will take the parameters as current and resistance and will output the voltage across the resistance.<span style=\"font-size:40px;\">&#8628;</span>"
   ]
  },
  {
   "cell_type": "code",
   "execution_count": 13,
   "id": "2be3c515-17f8-4e8b-8acb-0979aa4b375d",
   "metadata": {},
   "outputs": [
    {
     "name": "stdout",
     "output_type": "stream",
     "text": [
      "Voltage across the resistance: 50 volts\n"
     ]
    }
   ],
   "source": [
    "def calculate_voltage(current, resistance):\n",
    "    voltage = current * resistance\n",
    "    return voltage\n",
    "current = 5\n",
    "resistance = 10\n",
    "voltage = calculate_voltage(current, resistance)\n",
    "print(f\"Voltage across the resistance: {voltage} volts\")\n"
   ]
  },
  {
   "cell_type": "markdown",
   "id": "e0ed2388-74d2-451c-b0fa-af63ff1d9d4e",
   "metadata": {},
   "source": [
    "## a. The argument pass will like positional arguments.<span style=\"font-size:42px;\">&#8628;</span>"
   ]
  },
  {
   "cell_type": "code",
   "execution_count": 9,
   "id": "903a91d6-26d4-4dbc-bf46-13edfb059a51",
   "metadata": {},
   "outputs": [],
   "source": [
    "def calculate_voltage(current, resistance):\n",
    "    voltage = current * resistance\n",
    "    return voltage"
   ]
  },
  {
   "cell_type": "code",
   "execution_count": 18,
   "id": "4dd778bd-0609-4c25-984d-2ab7f01e0e4e",
   "metadata": {},
   "outputs": [
    {
     "name": "stdout",
     "output_type": "stream",
     "text": [
      "Voltage across the resistance: 80 volts\n"
     ]
    }
   ],
   "source": [
    "current = 8\n",
    "resistance = 10\n",
    "voltage = calculate_voltage(current, resistance)\n",
    "print(f\"Voltage across the resistance: {voltage} volts\")\n"
   ]
  },
  {
   "cell_type": "markdown",
   "id": "1f914730-048d-430b-a852-9ca8b88060ea",
   "metadata": {},
   "source": [
    "## b. The arguments passing will like keyword arguments.<span style=\"font-size:42px;\">&#8628;</span>"
   ]
  },
  {
   "cell_type": "code",
   "execution_count": 17,
   "id": "b62aad6a-824f-477f-b388-db1bf1b38849",
   "metadata": {},
   "outputs": [
    {
     "name": "stdout",
     "output_type": "stream",
     "text": [
      "Voltage across the resistance: 50 volts\n",
      "Voltage across the resistance: 72 volts\n"
     ]
    }
   ],
   "source": [
    "def calculate_voltage(current, resistance):\n",
    "    voltage = current * resistance\n",
    "    return voltage\n",
    "\n",
    "voltage = calculate_voltage(current=5, resistance=10)\n",
    "print(f\"Voltage across the resistance: {voltage} volts\")\n",
    "\n",
    "voltage = calculate_voltage(current=6, resistance=12)\n",
    "print(f\"Voltage across the resistance: {voltage} volts\")\n",
    "\n"
   ]
  },
  {
   "cell_type": "markdown",
   "id": "6cce4508-f4d3-409a-9282-f9845fa5683e",
   "metadata": {},
   "source": [
    "## c. The arguments passing will like default arguments.<span style=\"font-size:42px;\">&#8628;</span>"
   ]
  },
  {
   "cell_type": "code",
   "execution_count": 21,
   "id": "4fd80f1e-bd67-46ab-a130-13c3d87492cf",
   "metadata": {},
   "outputs": [
    {
     "name": "stdout",
     "output_type": "stream",
     "text": [
      "Voltage across the resistance: 50 volts\n",
      "Voltage across the resistance: 5 volts\n",
      "Voltage across the resistance: 1 volts\n"
     ]
    }
   ],
   "source": [
    "def calculate_voltage(current=1, resistance=1):\n",
    "    voltage = current * resistance\n",
    "    return voltage\n",
    "voltage = calculate_voltage(current=5, resistance=10)\n",
    "print(f\"Voltage across the resistance: {voltage} volts\")\n",
    "\n",
    "voltage = calculate_voltage(current=5)\n",
    "print(f\"Voltage across the resistance: {voltage} volts\")\n",
    "\n",
    "\n",
    "voltage = calculate_voltage()\n",
    "print(f\"Voltage across the resistance: {voltage} volts\")\n"
   ]
  },
  {
   "cell_type": "markdown",
   "id": "d807a71e-b0cb-4d38-83c4-df82dc345f22",
   "metadata": {},
   "source": [
    "## d. Pass the arguments of one style to the other.<span style=\"font-size:42px;\">&#8628;</span>"
   ]
  },
  {
   "cell_type": "code",
   "execution_count": 25,
   "id": "ea9ed642-bcfc-4f9d-b658-533a6d546421",
   "metadata": {},
   "outputs": [
    {
     "name": "stdout",
     "output_type": "stream",
     "text": [
      "Voltage with keyword arguments: 300 volts\n",
      "Voltage with default arguments: 15 volts\n",
      "Voltage with positional and default: 5 volts\n"
     ]
    }
   ],
   "source": [
    "def calculate_voltage(current, resistance):\n",
    "    voltage = current * resistance\n",
    "    return voltage\n",
    "\n",
    "current_value = 15\n",
    "resistance_value = 20\n",
    "\n",
    "\n",
    "voltage = calculate_voltage(current=current_value, resistance=resistance_value)\n",
    "print(f\"Voltage with keyword arguments: {voltage} volts\")\n",
    "\n",
    "def calculate_voltage(current=1, resistance=1):\n",
    "    voltage = current * resistance\n",
    "    return voltage\n",
    "\n",
    "\n",
    "voltage_default = calculate_voltage(current=15)\n",
    "print(f\"Voltage with default arguments: {voltage_default} volts\")\n",
    "\n",
    "voltage_default_pos = calculate_voltage(5) \n",
    "print(f\"Voltage with positional and default: {voltage_default_pos} volts\")\n"
   ]
  },
  {
   "cell_type": "markdown",
   "id": "4f2ca684-5013-459f-aa2c-ffccfb5f237e",
   "metadata": {},
   "source": [
    "## e. Passing less number of arguments and check the error message.  <span style=\"font-size:42px;\">&#8628;</span>"
   ]
  },
  {
   "cell_type": "code",
   "execution_count": null,
   "id": "80f6ced4-17d1-4c67-a801-f50c6ed11bb0",
   "metadata": {},
   "outputs": [],
   "source": [
    "def calculate_voltage(current, resistance):\n",
    "    voltage = current * resistance\n",
    "    return voltage\n",
    "\n",
    "voltage = calculate_voltage(5)\n",
    "TypeError: calculate_voltage() missing 1 required positional argument: 'resistance'\n"
   ]
  },
  {
   "cell_type": "markdown",
   "id": "d34559d2-2386-4ae1-8f40-34694fc7e71e",
   "metadata": {},
   "source": [
    "## f. Verify that whether positional argument follows keyword argument. <span style=\"font-size:42px;\">&#8628;</span>"
   ]
  },
  {
   "cell_type": "code",
   "execution_count": 37,
   "id": "1e82b939-3467-4fbe-af7f-2fa48309d59c",
   "metadata": {},
   "outputs": [
    {
     "name": "stdout",
     "output_type": "stream",
     "text": [
      "Voltage: 50 volts\n"
     ]
    }
   ],
   "source": [
    "def calculate_voltage(current, resistance):\n",
    "    voltage = current * resistance\n",
    "    return voltage\n",
    "voltage = calculate_voltage(5, resistance=10)\n",
    "print(f\"Voltage: {voltage} volts\")"
   ]
  },
  {
   "cell_type": "markdown",
   "id": "539d8d95-1f78-497e-a94b-93bfa78af910",
   "metadata": {},
   "source": [
    "# LAB:10 COMPLETED BY NAME: MUHAMMAD REHAN.\n",
    "# REG NO: 23JZELE0522.\n",
    "# SECTI0N: A"
   ]
  }
 ],
 "metadata": {
  "kernelspec": {
   "display_name": "Python 3 (ipykernel)",
   "language": "python",
   "name": "python3"
  },
  "language_info": {
   "codemirror_mode": {
    "name": "ipython",
    "version": 3
   },
   "file_extension": ".py",
   "mimetype": "text/x-python",
   "name": "python",
   "nbconvert_exporter": "python",
   "pygments_lexer": "ipython3",
   "version": "3.12.4"
  }
 },
 "nbformat": 4,
 "nbformat_minor": 5
}
