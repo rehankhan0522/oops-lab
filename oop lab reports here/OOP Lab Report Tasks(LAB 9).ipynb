{
 "cells": [
  {
   "cell_type": "markdown",
   "id": "bc0bf8b9-0720-4633-94b3-06c7fbee91e9",
   "metadata": {},
   "source": [
    "## <p style=\"color:blue ; font-size:34px; font-family: Algerian ; text-align:center;\">Lab Title: EE:271 \"OOP & Data Structures\"\n"
   ]
  },
  {
   "cell_type": "markdown",
   "id": "87a7a2c4-372b-48f2-a6e8-98f03e451467",
   "metadata": {},
   "source": [
    "## <p style=\"color:black; font-size:32px; font-family: Algerian ; text-align:center;\">LAB.9 REPORT TASKS"
   ]
  },
  {
   "cell_type": "code",
   "execution_count": 3,
   "id": "4528fd7f-8ff2-4865-b1d6-462ac80842f2",
   "metadata": {},
   "outputs": [],
   "source": [
    "class Employee:\n",
    "    def __init__(self, employee_id, name):\n",
    "        self.id = employee_id\n",
    "        self.name = name\n",
    "        \n",
    "    def calculate_payroll(self):\n",
    "        raise NotImplementedError(\"This method should be overridden in the subclass\")\n",
    "\n",
    "class SalaryEmployee(Employee):\n",
    "    def __init__(self, employee_id, name, weekly_salary):\n",
    "        super().__init__(employee_id, name)\n",
    "        self.weekly_salary = weekly_salary\n",
    "    \n",
    "    def calculate_payroll(self):\n",
    "        return self.weekly_salary\n",
    "\n",
    "class HourlyEmployee(Employee):\n",
    "    def __init__(self, employee_id, name, hours_worked, hourly_rate):\n",
    "        super().__init__(employee_id, name)\n",
    "        self.hours_worked = hours_worked\n",
    "        self.hourly_rate = hourly_rate\n",
    "    \n",
    "    def calculate_payroll(self):\n",
    "        return self.hours_worked * self.hourly_rate\n",
    "\n",
    "class CommissionEmployee(SalaryEmployee):\n",
    "    def __init__(self, employee_id, name, weekly_salary, commission_rate, sales):\n",
    "        super().__init__(employee_id, name, weekly_salary)\n",
    "        self.commission_rate = commission_rate\n",
    "        self.sales = sales\n",
    "    \n",
    "    def calculate_payroll(self):\n",
    "        commission = self.sales * self.commission_rate\n",
    "        return self.weekly_salary + commission\n",
    "\n",
    "class PayrollSystem:\n",
    "    def calculate_payroll(self, employees):\n",
    "        for employee in employees:\n",
    "            payroll = employee.calculate_payroll()\n",
    "            print(f\"Employee ID: {employee.id}, Name: {employee.name}, Payroll: ${payroll:.2f}\")\n",
    "            print(\"=\" * 40)"
   ]
  },
  {
   "cell_type": "code",
   "execution_count": 4,
   "id": "0f645698-328b-4efb-bc24-b8eb3657dcc5",
   "metadata": {},
   "outputs": [
    {
     "name": "stdout",
     "output_type": "stream",
     "text": [
      "Employee ID: 1, Name: bilal, Payroll: $1200.00\n",
      "========================================\n",
      "Employee ID: 2, Name: rehan, Payroll: $1500.00\n",
      "========================================\n",
      "Employee ID: 3, Name: asif, Payroll: $1150.00\n",
      "========================================\n"
     ]
    }
   ],
   "source": [
    "salary_employee = SalaryEmployee(1, \"bilal\", 1200)  \n",
    "hourly_employee = HourlyEmployee(2, \"rehan\", 30, 50)  \n",
    "commission_employee = CommissionEmployee(3, \"asif\", 800, 0.05, 7000)  \n",
    "employees = [salary_employee, hourly_employee, commission_employee]\n",
    "\n",
    "payroll_system = PayrollSystem()\n",
    "payroll_system.calculate_payroll(employees)\n"
   ]
  },
  {
   "cell_type": "code",
   "execution_count": 6,
   "id": "675d0e0f-6cc1-4dac-aaa4-db5ca144b9bf",
   "metadata": {},
   "outputs": [],
   "source": [
    "class Manager(SalaryEmployee):\n",
    "    def __init__(self, emp_id, name, weekly_salary):\n",
    "        super().__init__(emp_id, name, weekly_salary)\n",
    "    \n",
    "    def work(self, hours):\n",
    "        print(f\"Manager {self.name} worked for {hours} hours, delegating tasks and overseeing operations.\")\n",
    "\n",
    "class Secretary(SalaryEmployee):\n",
    "    def __init__(self, emp_id, name, weekly_salary):\n",
    "        super().__init__(emp_id, name, weekly_salary)\n",
    "    \n",
    "    def work(self, hours):\n",
    "        print(f\"Secretary {self.name} worked for {hours} hours, handling paperwork and administration.\")\n",
    "\n",
    "class SalesPerson(SalaryEmployee):\n",
    "    def __init__(self, emp_id, name, weekly_salary, commission_rate):\n",
    "        super().__init__(emp_id, name, weekly_salary)\n",
    "        self.commission_rate = commission_rate \n",
    "        self.sales_made = 0  \n",
    "\n",
    "    def work(self, hours, sales_made):\n",
    "        self.sales_made += sales_made\n",
    "        commission = sales_made * self.commission_rate\n",
    "        total_pay = self.weekly_salary + commission\n",
    "        print(f\"SalesPerson {self.name} worked for {hours} hours and made ${sales_made} in sales. \"\n",
    "              f\"Commission earned: ${commission}. Total Pay: ${total_pay:.2f}\")\n",
    "\n",
    "class HourlyEmployee(Employee):\n",
    "    def __init__(self, emp_id, name, hourly_rate, hours_worked):\n",
    "        super().__init__(emp_id, name)\n",
    "        self.hourly_rate = hourly_rate\n",
    "        self.hours_worked = hours_worked\n",
    "    \n",
    "    def calculate_payroll(self):\n",
    "        return self.hourly_rate * self.hours_worked\n",
    "    \n",
    "    def work(self, hours):\n",
    "        self.hours_worked += hours\n",
    "        total_pay = self.calculate_payroll()\n",
    "        print(f\"Factory Worker {self.name} worked for {hours} hours. Total Pay: ${total_pay:.2f}\")\n",
    "\n",
    "class ProductivitySystem:\n",
    "    def calculate_productivity(self, employees):\n",
    "        for employee in employees:\n",
    "            print(f\"Employee: {employee.name}\")\n",
    "            if isinstance(employee, SalesPerson):\n",
    "                employee.work(40, 2000)  \n",
    "            else:\n",
    "                employee.work(40)  \n",
    "            print(\"=\" * 40)"
   ]
  },
  {
   "cell_type": "code",
   "execution_count": 7,
   "id": "ebc673fe-b50f-43ed-81f6-71f165372ccf",
   "metadata": {},
   "outputs": [
    {
     "name": "stdout",
     "output_type": "stream",
     "text": [
      "Employee: bilal\n",
      "Manager bilal worked for 40 hours, delegating tasks and overseeing operations.\n",
      "========================================\n",
      "Employee: rehan\n",
      "Secretary rehan worked for 40 hours, handling paperwork and administration.\n",
      "========================================\n",
      "Employee: asif\n",
      "SalesPerson asif worked for 40 hours and made $2000 in sales. Commission earned: $200.0. Total Pay: $1200.00\n",
      "========================================\n",
      "Employee: hilal\n",
      "Factory Worker hilal worked for 40 hours. Total Pay: $1600.00\n",
      "========================================\n"
     ]
    }
   ],
   "source": [
    "manager1 = Manager(1, \"bilal\", 1500)\n",
    "secretary1 = Secretary(2, \"rehan\", 800)\n",
    "salesperson1 = SalesPerson(3, \"asif\", 1000, 0.1)  \n",
    "factoryworker1 = HourlyEmployee(4, \"hilal\", 20, 40)  \n",
    "employees = [\n",
    "    manager1, secretary1, salesperson1, factoryworker1\n",
    "]\n",
    "productivity_system = ProductivitySystem()\n",
    "productivity_system.calculate_productivity(employees)"
   ]
  },
  {
   "cell_type": "code",
   "execution_count": 8,
   "id": "f54e79fe-a76a-43c2-867e-17bc9c66e1a0",
   "metadata": {},
   "outputs": [],
   "source": [
    "class TemporarySecretary(Secretary, HourlyEmployee):\n",
    "    def __init__(self, id, name, hours_worked, hourly_rate):\n",
    "        HourlyEmployee.__init__(self, id, name, hours_worked, hourly_rate)\n",
    "    def calculate_payroll(self):\t\n",
    "        return HourlyEmployee.calculate_payroll(self)\n"
   ]
  },
  {
   "cell_type": "code",
   "execution_count": 9,
   "id": "886a8223-9275-4d1f-9d4f-dfbf6fba6b94",
   "metadata": {},
   "outputs": [],
   "source": [
    "manager1 = Manager(1, \"bilal\", 2000)\n",
    "secretary1 = Secretary(2, \"hilal\", 1500)\n",
    "salesperson1 = SalesPerson(3, \"asif\", 1000, 0.1)\n",
    "factoryworker1 = HourlyEmployee(4, \"ali\", 30, 50)\n",
    "temporarysecretary = TemporarySecretary(5, \"jalal\", 40, 15)"
   ]
  },
  {
   "cell_type": "code",
   "execution_count": 10,
   "id": "97deb738-fad2-4df7-86ee-00078668c018",
   "metadata": {},
   "outputs": [],
   "source": [
    "company_employees = [manager1, secretary1, salesperson1, factoryworker1, temporarysecretary]"
   ]
  },
  {
   "cell_type": "code",
   "execution_count": 11,
   "id": "9993b332-83b8-4bc0-914e-1d1f6662797c",
   "metadata": {},
   "outputs": [
    {
     "name": "stdout",
     "output_type": "stream",
     "text": [
      "Employee: bilal\n",
      "Manager bilal worked for 40 hours, delegating tasks and overseeing operations.\n",
      "========================================\n",
      "Employee: hilal\n",
      "Secretary hilal worked for 40 hours, handling paperwork and administration.\n",
      "========================================\n",
      "Employee: asif\n",
      "SalesPerson asif worked for 40 hours and made $2000 in sales. Commission earned: $200.0. Total Pay: $1200.00\n",
      "========================================\n",
      "Employee: ali\n",
      "Factory Worker ali worked for 40 hours. Total Pay: $2700.00\n",
      "========================================\n",
      "Employee: jalal\n",
      "Secretary jalal worked for 40 hours, handling paperwork and administration.\n",
      "========================================\n"
     ]
    }
   ],
   "source": [
    "productivity_system = ProductivitySystem()\n",
    "productivity_system.calculate_productivity(company_employees)"
   ]
  },
  {
   "cell_type": "markdown",
   "id": "fed275f6-71f8-49ab-a533-d2e57dfae97c",
   "metadata": {},
   "source": [
    "# LAB:10 COMPLETED BY NAME: MUHAMMAD REHAN.\n",
    "# REG NO: 23JZELE0522.\n",
    "# SECTI0N: A"
   ]
  }
 ],
 "metadata": {
  "kernelspec": {
   "display_name": "Python 3 (ipykernel)",
   "language": "python",
   "name": "python3"
  },
  "language_info": {
   "codemirror_mode": {
    "name": "ipython",
    "version": 3
   },
   "file_extension": ".py",
   "mimetype": "text/x-python",
   "name": "python",
   "nbconvert_exporter": "python",
   "pygments_lexer": "ipython3",
   "version": "3.12.4"
  }
 },
 "nbformat": 4,
 "nbformat_minor": 5
}
