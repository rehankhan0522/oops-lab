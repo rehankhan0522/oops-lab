{
 "cells": [
  {
   "cell_type": "markdown",
   "id": "896d153c-eda3-49f4-964e-0a875b9e35da",
   "metadata": {
    "jp-MarkdownHeadingCollapsed": true
   },
   "source": [
    "## <p style=\"color:blue ; font-size:34px; font-family: Algerian ; text-align:center;\">Lab Title: EE:271 \"OOP & Data Structures\""
   ]
  },
  {
   "cell_type": "markdown",
   "id": "cc55673c-8d4e-4a02-8b8d-5f9112734155",
   "metadata": {},
   "source": [
    "# OOP LAB REPORT WORK(LAB4)"
   ]
  },
  {
   "cell_type": "markdown",
   "id": "732ab595-895f-49ec-aa60-8983c0ead789",
   "metadata": {},
   "source": [
    "## 1. Consider the point class below. \n",
    "## a.Make an object and print its x and y coordinates.<span style=\"font-size:42px;\">&#8628;</span>"
   ]
  },
  {
   "cell_type": "code",
   "execution_count": 29,
   "id": "10d3b638-8aae-40bc-b2c9-baca2b1b597f",
   "metadata": {},
   "outputs": [],
   "source": [
    "import math \n",
    "\n",
    "class Point:\n",
    "    \"\"\"Represents a point in two-dimensional geometric coordinates.\n",
    "    \n",
    "    Parameters:\n",
    "    ----------\n",
    "    x : float\n",
    "    y : float\n",
    "    \"\"\"\n",
    "    \n",
    "    def __init__(self, x: float, y: float) -> None:\n",
    "        self.x = x\n",
    "        self.y = y\n",
    "\n",
    "    def distance(self, p2) -> float:\n",
    "        return math.sqrt((self.x - p2.x) ** 2 + (self.y - p2.y) ** 2)"
   ]
  },
  {
   "cell_type": "code",
   "execution_count": 31,
   "id": "aa578c61-8bf3-4a41-bb63-2935c9215a03",
   "metadata": {},
   "outputs": [
    {
     "name": "stdout",
     "output_type": "stream",
     "text": [
      "x coordinate: 3.0\n",
      "y coordinate: 4.0\n"
     ]
    }
   ],
   "source": [
    "point1 = Point(3.0, 4.0)\n",
    "print(\"x coordinate:\", point1.x)\n",
    "print(\"y coordinate:\", point1.y)"
   ]
  },
  {
   "cell_type": "markdown",
   "id": "b2acc316-0dc6-4c7e-a4f4-116a85ad6b8a",
   "metadata": {},
   "source": [
    "## a. Define point1 and pass two numbers.<span style=\"font-size:40px;\">&#8628;</span>"
   ]
  },
  {
   "cell_type": "code",
   "execution_count": null,
   "id": "19fadc73-feb4-4a2c-a771-2aa16f329c58",
   "metadata": {},
   "outputs": [],
   "source": [
    "import math \n",
    "\n",
    "class Point:\n",
    "    \"\"\"Represents a point in two-dimensional geometric coordinates.\n",
    "    \n",
    "    Parameters:\n",
    "    ----------\n",
    "    x : float\n",
    "    y : float\n",
    "    \"\"\"\n",
    "    \n",
    "    def __init__(self, x: float, y: float) -> None:\n",
    "        self.x = x\n",
    "        self.y = y\n",
    "\n",
    "    def distance(self, p2) -> float:\n",
    "        return math.sqrt((self.x - p2.x) ** 2 + (self.y - p2.y) ** 2)\n",
    "\n"
   ]
  },
  {
   "cell_type": "code",
   "execution_count": 33,
   "id": "63746cf1-1468-47c1-896d-ca7eef8562d0",
   "metadata": {},
   "outputs": [
    {
     "name": "stdout",
     "output_type": "stream",
     "text": [
      "x coordinate of point1: 3.0\n",
      "y coordinate of point1: 4.0\n"
     ]
    }
   ],
   "source": [
    "point1 = Point(3.0, 4.0)\n",
    "print(\"x coordinate of point1:\", point1.x)\n",
    "print(\"y coordinate of point1:\", point1.y)"
   ]
  },
  {
   "cell_type": "markdown",
   "id": "ade32354-cefe-4d80-bacf-3cba1080da16",
   "metadata": {},
   "source": [
    "## b. Make another instance of the point class, say its name is p2.<span style=\"font-size:40px;\">&#8628;</span>"
   ]
  },
  {
   "cell_type": "code",
   "execution_count": 34,
   "id": "2f6694e1-da8a-4a4a-83e8-157f0cf2967b",
   "metadata": {},
   "outputs": [],
   "source": [
    "import math\n",
    "\n",
    "class Point:\n",
    "    \"\"\"Represents a point in two-dimensional geometric coordinates.\n",
    "    \n",
    "    Parameters:\n",
    "    ----------\n",
    "    x : float\n",
    "    y : float\n",
    "    \"\"\"\n",
    "    \n",
    "    def __init__(self, x: float, y: float) -> None:\n",
    "        self.x = x\n",
    "        self.y = y\n",
    "\n",
    "    def distance(self, p2) -> float:\n",
    "        return math.sqrt((self.x - p2.x) ** 2 + (self.y - p2.y) ** 2)\n"
   ]
  },
  {
   "cell_type": "code",
   "execution_count": 35,
   "id": "0ac2394f-12c4-4c6d-afb3-0145ff74bd4a",
   "metadata": {},
   "outputs": [
    {
     "name": "stdout",
     "output_type": "stream",
     "text": [
      "x coordinate of point1: 3.0\n",
      "y coordinate of point1: 4.0\n",
      "x coordinate of p2: 6.0\n",
      "y coordinate of p2: 8.0\n"
     ]
    }
   ],
   "source": [
    "point1 = Point(3.0, 4.0)\n",
    "\n",
    "p2 = Point(6.0, 8.0)\n",
    "\n",
    "print(\"x coordinate of point1:\", point1.x)\n",
    "print(\"y coordinate of point1:\", point1.y)\n",
    "print(\"x coordinate of p2:\", p2.x)\n",
    "print(\"y coordinate of p2:\", p2.y)"
   ]
  },
  {
   "cell_type": "markdown",
   "id": "4cd5fe20-ad3b-4a13-a6d4-5cad7bc02b78",
   "metadata": {},
   "source": [
    "## c. Print p1 and p2, for this use the print command and pass the point as input.<span style=\"font-size:40px;\">&#8628;</span>"
   ]
  },
  {
   "cell_type": "code",
   "execution_count": 1,
   "id": "0ebf2047-299b-4e92-8446-1c338d7a1fcc",
   "metadata": {},
   "outputs": [],
   "source": [
    "import math\n",
    "\n",
    "class Point:\n",
    "    \"\"\"Represents a point in two-dimensional geometric coordinates.\n",
    "    \n",
    "    Parameters:\n",
    "    ----------\n",
    "    x : float\n",
    "    y : float\n",
    "    \"\"\"\n",
    "    \n",
    "    def __init__(self, x: float, y: float) -> None:\n",
    "        self.x = x\n",
    "        self.y = y\n",
    "\n",
    "    def distance(self, p2) -> float:\n",
    "        return math.sqrt((self.x - p2.x) ** 2 + (self.y - p2.y) ** 2)\n",
    "        \n",
    "    def __repr__(self):\n",
    "        return f\"Point({self.x}, {self.y})\"\n",
    "        \n",
    "point1 = Point(3.0, 4.0)\n",
    "\n",
    "p2 = Point(6.0, 8.0)\n"
   ]
  },
  {
   "cell_type": "code",
   "execution_count": 56,
   "id": "5bfd0c8d-b0dd-4c86-bdb5-1143f1e0a2dc",
   "metadata": {},
   "outputs": [
    {
     "name": "stdout",
     "output_type": "stream",
     "text": [
      "Point(3.0, 4.0)\n",
      "Point(6.0, 8.0)\n"
     ]
    }
   ],
   "source": [
    "print(point1)\n",
    "print(p2) "
   ]
  },
  {
   "cell_type": "markdown",
   "id": "5d3e17f0-ad3b-45b4-b4ba-0d9b0b13e9cf",
   "metadata": {},
   "source": [
    "## d. Print the coordinate by using the object and dot operator.<span style=\"font-size:40px;\">&#8628;</span>"
   ]
  },
  {
   "cell_type": "code",
   "execution_count": 57,
   "id": "bbd6883d-dcba-4981-a2dd-a005c6dd434b",
   "metadata": {},
   "outputs": [
    {
     "name": "stdout",
     "output_type": "stream",
     "text": [
      "Coordinates of point1: x = 3.0 , y = 4.0\n",
      "Coordinates of p2: x = 6.0 , y = 8.0\n"
     ]
    }
   ],
   "source": [
    "import math\n",
    "\n",
    "class Point:\n",
    "    \"\"\"Represents a point in two-dimensional geometric coordinates.\n",
    "    \n",
    "    Parameters:\n",
    "    ----------\n",
    "    x : float\n",
    "    y : float\n",
    "    \"\"\"\n",
    "    \n",
    "    def __init__(self, x: float, y: float) -> None:\n",
    "        self.x = x\n",
    "        self.y = y\n",
    "\n",
    "    def distance(self, p2) -> float:\n",
    "        return math.sqrt((self.x - p2.x) ** 2 + (self.y - p2.y) ** 2)\n",
    "\n",
    "point1 = Point(3.0, 4.0)\n",
    "\n",
    "p2 = Point(6.0, 8.0)\n",
    "\n",
    "print(\"Coordinates of point1: x =\", point1.x, \", y =\", point1.y)\n",
    "\n",
    "print(\"Coordinates of p2: x =\", p2.x, \", y =\", p2.y)\n"
   ]
  },
  {
   "cell_type": "markdown",
   "id": "6e6f9ae3-b8bb-4fe3-8e38-df3dd39d1b79",
   "metadata": {},
   "source": [
    "## e.Add a new method to the point class that can effectively print the points. Print both the \n",
    "point using that function<span style=\"fontsize:40px;\">&#8628;</span> "
   ]
  },
  {
   "cell_type": "code",
   "execution_count": 58,
   "id": "19db01e1-4d6a-4ad6-b281-0ee5076e1227",
   "metadata": {},
   "outputs": [
    {
     "name": "stdout",
     "output_type": "stream",
     "text": [
      "Point(3.0, 4.0)\n",
      "Point(6.0, 8.0)\n"
     ]
    }
   ],
   "source": [
    "import math\n",
    "\n",
    "class Point:\n",
    "    \"\"\"Represents a point in two-dimensional geometric coordinates.\n",
    "    \n",
    "    Parameters:\n",
    "    ----------\n",
    "    x : float\n",
    "    y : float\n",
    "    \"\"\"\n",
    "    \n",
    "    def __init__(self, x: float, y: float) -> None:\n",
    "        self.x = x\n",
    "        self.y = y\n",
    "\n",
    "    def distance(self, p2) -> float:\n",
    "        return math.sqrt((self.x - p2.x) ** 2 + (self.y - p2.y) ** 2)\n",
    "\n",
    "\n",
    "    def print_point(self):\n",
    "        print(f\"Point({self.x}, {self.y})\")\n",
    "\n",
    "point1 = Point(3.0, 4.0)\n",
    "\n",
    "p2 = Point(6.0, 8.0)\n",
    "\n",
    "point1.print_point() \n",
    "p2.print_point()     \n"
   ]
  },
  {
   "cell_type": "markdown",
   "id": "d56b2cc5-84ac-41fe-9392-088330765809",
   "metadata": {},
   "source": [
    "## f.Calculate the distance between these two pints "
   ]
  },
  {
   "cell_type": "code",
   "execution_count": 59,
   "id": "d9a7f7ad-6757-450f-9629-0dbbabeb9739",
   "metadata": {},
   "outputs": [
    {
     "name": "stdout",
     "output_type": "stream",
     "text": [
      "Distance between point1 and p2: 5.0\n"
     ]
    }
   ],
   "source": [
    "import math\n",
    "\n",
    "class Point:\n",
    "    \"\"\"Represents a point in two-dimensional geometric coordinates.\n",
    "    \n",
    "    Parameters:\n",
    "    ----------\n",
    "    x : float\n",
    "    y : float\n",
    "    \"\"\"\n",
    "    \n",
    "    def __init__(self, x: float, y: float) -> None:\n",
    "        self.x = x\n",
    "        self.y = y\n",
    "\n",
    "    def distance(self, p2) -> float:\n",
    "        return math.sqrt((self.x - p2.x) ** 2 + (self.y - p2.y) ** 2)\n",
    "\n",
    "    def print_point(self):\n",
    "        print(f\"Point({self.x}, {self.y})\")\n",
    "\n",
    "point1 = Point(3.0, 4.0)\n",
    "\n",
    "p2 = Point(6.0, 8.0)\n",
    "\n",
    "distance = point1.distance(p2)\n",
    "\n",
    "print(\"Distance between point1 and p2:\", distance)"
   ]
  },
  {
   "cell_type": "markdown",
   "id": "1d25e614-db58-4774-bd35-cbe9f21f54f8",
   "metadata": {},
   "source": [
    "# LAB:10 COMPLETED BY NAME: MUHAMMAD REHAN.\n",
    "# REG NO: 23JZELE0522.\n",
    "# SECTI0N: A"
   ]
  }
 ],
 "metadata": {
  "kernelspec": {
   "display_name": "Python 3 (ipykernel)",
   "language": "python",
   "name": "python3"
  },
  "language_info": {
   "codemirror_mode": {
    "name": "ipython",
    "version": 3
   },
   "file_extension": ".py",
   "mimetype": "text/x-python",
   "name": "python",
   "nbconvert_exporter": "python",
   "pygments_lexer": "ipython3",
   "version": "3.12.4"
  }
 },
 "nbformat": 4,
 "nbformat_minor": 5
}
