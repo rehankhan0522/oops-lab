{
 "cells": [
  {
   "cell_type": "markdown",
   "id": "1b50b912-5b26-4eb6-9565-5831b627a434",
   "metadata": {},
   "source": [
    "## <p style=\"color:blue ; font-size:34px; font-family: Algerian ; text-align:center;\">Lab Title: EE:271 \"OOP & Data Structures\""
   ]
  },
  {
   "cell_type": "markdown",
   "id": "71497daf-955f-42c7-8974-b57e3f68f326",
   "metadata": {},
   "source": [
    "# OOP LAB REPORT TASKS(LAB 3)"
   ]
  },
  {
   "cell_type": "markdown",
   "id": "7014c4f9-693e-4979-b1d8-333fd44e02c7",
   "metadata": {},
   "source": [
    "## 1)Make a list that contains the student name, the last four digits of the registration number as an integer, the CGPA as a float, and a list that contains GPA of all semesters. (Nested List)<span style=\"font-size:42px;\">&#8628;</span>"
   ]
  },
  {
   "cell_type": "code",
   "execution_count": 8,
   "id": "daaa10b9-2d55-4f3a-9563-3811f2ff1001",
   "metadata": {},
   "outputs": [],
   "source": [
    "students = [\n",
    "    [\"Alice\", 1234, 3.85, [3.8, 3.9, 4.0, 3.7]],\n",
    "    [\"Bob\", 5678, 3.65, [3.6, 3.7, 3.8, 3.5]],\n",
    "    [\"Charlie\", 9101, 3.90, [4.0, 3.9, 4.0, 3.9]],\n",
    "    [\"Diana\", 1122, 3.75, [3.6, 3.8, 3.9, 3.7]],\n",
    "]    "
   ]
  },
  {
   "cell_type": "code",
   "execution_count": 9,
   "id": "7d5690b8-9abc-4bae-91d9-4fc5d311085e",
   "metadata": {},
   "outputs": [
    {
     "name": "stdout",
     "output_type": "stream",
     "text": [
      "[['Alice', 1234, 3.85, [3.8, 3.9, 4.0, 3.7]], ['Bob', 5678, 3.65, [3.6, 3.7, 3.8, 3.5]], ['Charlie', 9101, 3.9, [4.0, 3.9, 4.0, 3.9]], ['Diana', 1122, 3.75, [3.6, 3.8, 3.9, 3.7]]]\n"
     ]
    }
   ],
   "source": [
    "print(students)"
   ]
  },
  {
   "cell_type": "markdown",
   "id": "91c23ec8-7cc6-42d3-8671-df0d91115c8d",
   "metadata": {},
   "source": [
    "## 2)Use list inducing in the following nested list and access each and every element.x = [\"a\", [\"bb\", [\"ccc\", \"ddd\"], \"ee\", \"ff\"], \"g\", [\"hh\", \"ii\"], \"j\"]<span style=\"font-size:42px;\">&#8628;</span>"
   ]
  },
  {
   "cell_type": "code",
   "execution_count": 2,
   "id": "960878e2-6266-4e28-b899-6caef645b118",
   "metadata": {},
   "outputs": [],
   "source": [
    "x = [\"a\", [\"bb\", [\"ccc\", \"ddd\"], \"ee\", \"ff\"], \"g\", [\"hh\", \"ii\"], \"j\"]"
   ]
  },
  {
   "cell_type": "code",
   "execution_count": 3,
   "id": "987dde5a-5968-461e-b7ba-b8e6e80e6299",
   "metadata": {},
   "outputs": [
    {
     "data": {
      "text/plain": [
       "'a'"
      ]
     },
     "execution_count": 3,
     "metadata": {},
     "output_type": "execute_result"
    }
   ],
   "source": [
    "x[0]  "
   ]
  },
  {
   "cell_type": "code",
   "execution_count": 4,
   "id": "f380e116-92d2-4bd5-b5b7-4a74a7d8d435",
   "metadata": {},
   "outputs": [
    {
     "data": {
      "text/plain": [
       "['bb', ['ccc', 'ddd'], 'ee', 'ff']"
      ]
     },
     "execution_count": 4,
     "metadata": {},
     "output_type": "execute_result"
    }
   ],
   "source": [
    "x[1] "
   ]
  },
  {
   "cell_type": "code",
   "execution_count": 5,
   "id": "597cb8ab-4e6e-47ce-85e1-f58b3ed7974f",
   "metadata": {},
   "outputs": [
    {
     "data": {
      "text/plain": [
       "'bb'"
      ]
     },
     "execution_count": 5,
     "metadata": {},
     "output_type": "execute_result"
    }
   ],
   "source": [
    "x[1][0]  "
   ]
  },
  {
   "cell_type": "code",
   "execution_count": 6,
   "id": "51668b79-56f7-46ac-b521-75b7873d3774",
   "metadata": {},
   "outputs": [
    {
     "data": {
      "text/plain": [
       "['ccc', 'ddd']"
      ]
     },
     "execution_count": 6,
     "metadata": {},
     "output_type": "execute_result"
    }
   ],
   "source": [
    "x[1][1]  "
   ]
  },
  {
   "cell_type": "code",
   "execution_count": 7,
   "id": "1de93a45-230e-42b5-bc95-a1a36a032e2e",
   "metadata": {},
   "outputs": [
    {
     "data": {
      "text/plain": [
       "'ccc'"
      ]
     },
     "execution_count": 7,
     "metadata": {},
     "output_type": "execute_result"
    }
   ],
   "source": [
    "x[1][1][0]  "
   ]
  },
  {
   "cell_type": "code",
   "execution_count": 8,
   "id": "fac5f504-4d63-4c8d-ad5e-40836cf83072",
   "metadata": {},
   "outputs": [
    {
     "data": {
      "text/plain": [
       "'ddd'"
      ]
     },
     "execution_count": 8,
     "metadata": {},
     "output_type": "execute_result"
    }
   ],
   "source": [
    "x[1][1][1] "
   ]
  },
  {
   "cell_type": "code",
   "execution_count": 9,
   "id": "e16d5546-92c4-4716-8b1b-cbd645936ce0",
   "metadata": {},
   "outputs": [
    {
     "data": {
      "text/plain": [
       "'ee'"
      ]
     },
     "execution_count": 9,
     "metadata": {},
     "output_type": "execute_result"
    }
   ],
   "source": [
    "x[1][2]  "
   ]
  },
  {
   "cell_type": "code",
   "execution_count": 10,
   "id": "850e15ea-7e82-4e22-a59e-28d2fecfb188",
   "metadata": {},
   "outputs": [
    {
     "data": {
      "text/plain": [
       "'ff'"
      ]
     },
     "execution_count": 10,
     "metadata": {},
     "output_type": "execute_result"
    }
   ],
   "source": [
    "x[1][3]"
   ]
  },
  {
   "cell_type": "code",
   "execution_count": 11,
   "id": "b53aebdc-8d11-49c4-8fd8-3f5c5fe725d6",
   "metadata": {},
   "outputs": [
    {
     "data": {
      "text/plain": [
       "'g'"
      ]
     },
     "execution_count": 11,
     "metadata": {},
     "output_type": "execute_result"
    }
   ],
   "source": [
    "x[2] "
   ]
  },
  {
   "cell_type": "code",
   "execution_count": 12,
   "id": "352e0c0c-de12-4930-bd58-9b5b685408be",
   "metadata": {},
   "outputs": [
    {
     "data": {
      "text/plain": [
       "['hh', 'ii']"
      ]
     },
     "execution_count": 12,
     "metadata": {},
     "output_type": "execute_result"
    }
   ],
   "source": [
    "x[3] "
   ]
  },
  {
   "cell_type": "code",
   "execution_count": 13,
   "id": "f96bf950-075f-4699-956f-358c509a52e9",
   "metadata": {},
   "outputs": [
    {
     "data": {
      "text/plain": [
       "'hh'"
      ]
     },
     "execution_count": 13,
     "metadata": {},
     "output_type": "execute_result"
    }
   ],
   "source": [
    "x[3][0]  "
   ]
  },
  {
   "cell_type": "code",
   "execution_count": 14,
   "id": "4a80826c-9fc6-4a68-af82-8dfda3dae07d",
   "metadata": {},
   "outputs": [
    {
     "data": {
      "text/plain": [
       "'ii'"
      ]
     },
     "execution_count": 14,
     "metadata": {},
     "output_type": "execute_result"
    }
   ],
   "source": [
    "x[3][1] "
   ]
  },
  {
   "cell_type": "code",
   "execution_count": 15,
   "id": "d52921fe-8681-4f2d-a0e5-0235ef3971bb",
   "metadata": {},
   "outputs": [
    {
     "data": {
      "text/plain": [
       "'j'"
      ]
     },
     "execution_count": 15,
     "metadata": {},
     "output_type": "execute_result"
    }
   ],
   "source": [
    "x[4]  "
   ]
  },
  {
   "cell_type": "code",
   "execution_count": 16,
   "id": "382fef20-e9ae-49c7-ba11-f5532132cff6",
   "metadata": {},
   "outputs": [
    {
     "data": {
      "text/plain": [
       "'j'"
      ]
     },
     "execution_count": 16,
     "metadata": {},
     "output_type": "execute_result"
    }
   ],
   "source": [
    "x[0]  \n",
    "x[1][0]  \n",
    "x[1][1][0]  \n",
    "x[1][1][1]  \n",
    "x[1][2]  \n",
    "x[1][3]  \n",
    "x[2]  \n",
    "x[3][0]  \n",
    "x[3][1]  \n",
    "x[4] "
   ]
  },
  {
   "cell_type": "markdown",
   "id": "3056eb9d-8ce4-4288-bbbe-aeb1396a04f0",
   "metadata": {},
   "source": [
    "# LAB:10 COMPLETED BY NAME: MUHAMMAD REHAN.\n",
    "# REG NO: 23JZELE0522.\n",
    "# SECTI0N: A"
   ]
  }
 ],
 "metadata": {
  "kernelspec": {
   "display_name": "Python 3 (ipykernel)",
   "language": "python",
   "name": "python3"
  },
  "language_info": {
   "codemirror_mode": {
    "name": "ipython",
    "version": 3
   },
   "file_extension": ".py",
   "mimetype": "text/x-python",
   "name": "python",
   "nbconvert_exporter": "python",
   "pygments_lexer": "ipython3",
   "version": "3.12.4"
  }
 },
 "nbformat": 4,
 "nbformat_minor": 5
}
