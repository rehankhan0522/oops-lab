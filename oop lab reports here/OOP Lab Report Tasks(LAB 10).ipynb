{
 "cells": [
  {
   "cell_type": "markdown",
   "id": "376e4eaa-fe77-4d6e-8ce2-37721acb6615",
   "metadata": {},
   "source": [
    "## <p style=\"color:blue;font-size:35px;font-family:Algerian;text-align:center;\">Lab Title: EE:271 \"OOP & Data Structure\"\"e"
   ]
  },
  {
   "cell_type": "markdown",
   "id": "3bd6671b-45e5-49c4-836c-1e163081d3bf",
   "metadata": {},
   "source": [
    "<p style=\"color:blue ; font-size:33px; font-family: Algerian ; text-align:center;\">Lab 10: Modules and Package"
   ]
  },
  {
   "cell_type": "markdown",
   "id": "ffb2cf5c-d955-48b3-b16d-8ff59cd00f2d",
   "metadata": {},
   "source": [
    "## <p style=\"color:black ; font-size:35px; font-family: Algerian ; text-align:center;\">Lab Report task:"
   ]
  },
  {
   "cell_type": "code",
   "execution_count": null,
   "id": "37117e00-39dc-4ac1-8eef-be56cc780675",
   "metadata": {},
   "outputs": [],
   "source": [
    "import os\n",
    "os.chdir(r'C:\\users\\dell\\Desktop\\inheritance')"
   ]
  },
  {
   "cell_type": "code",
   "execution_count": null,
   "id": "080bc07f-5cdd-4b38-805a-06c0d94b4287",
   "metadata": {},
   "outputs": [],
   "source": [
    "import hr"
   ]
  },
  {
   "cell_type": "code",
   "execution_count": null,
   "id": "516a1f07-f2f0-4313-9b08-93ebb389d631",
   "metadata": {},
   "outputs": [],
   "source": [
    "from employees import SalaryEmployee"
   ]
  },
  {
   "cell_type": "code",
   "execution_count": null,
   "id": "39efe6b8-0dcd-4d1b-9781-49726c58f87d",
   "metadata": {},
   "outputs": [],
   "source": [
    "s=SalaryEmployee(3,\"kamil\",9000)"
   ]
  },
  {
   "cell_type": "code",
   "execution_count": null,
   "id": "78aeb367-9e81-4c23-a20a-88355289df83",
   "metadata": {},
   "outputs": [],
   "source": [
    "s.calculate_payroll()"
   ]
  },
  {
   "cell_type": "code",
   "execution_count": null,
   "id": "2aeaa846-9dbf-45cf-8cdf-58fe89242f37",
   "metadata": {},
   "outputs": [],
   "source": [
    "import productivity"
   ]
  },
  {
   "cell_type": "code",
   "execution_count": null,
   "id": "b29b632e-7efa-4130-8857-2baa2c781e07",
   "metadata": {},
   "outputs": [],
   "source": [
    "from employees import HourlyEmployee"
   ]
  },
  {
   "cell_type": "code",
   "execution_count": null,
   "id": "4dd165ea-3ac6-48c4-aa03-c41383901d06",
   "metadata": {},
   "outputs": [],
   "source": [
    "h=HourlyEmployee(3,\"kamil\",800,90)"
   ]
  },
  {
   "cell_type": "code",
   "execution_count": null,
   "id": "24ebf7a9-c4ca-4e66-a7de-66e9fca159a0",
   "metadata": {},
   "outputs": [],
   "source": [
    "h.calculate_payroll()"
   ]
  },
  {
   "cell_type": "code",
   "execution_count": null,
   "id": "a479701e-b0ae-4cf7-a1ef-90960d04f95a",
   "metadata": {},
   "outputs": [],
   "source": [
    "from employees import Manager"
   ]
  },
  {
   "cell_type": "code",
   "execution_count": null,
   "id": "da28c5cf-2d0d-44c4-adc9-08df53201dd5",
   "metadata": {},
   "outputs": [],
   "source": [
    "m=Manager(3,\"kamil\",800)"
   ]
  },
  {
   "cell_type": "code",
   "execution_count": null,
   "id": "a74e154c-45c1-441d-80d5-293d89453a5b",
   "metadata": {},
   "outputs": [],
   "source": [
    "m.calculate_payroll()"
   ]
  },
  {
   "cell_type": "code",
   "execution_count": null,
   "id": "4361a9da-5ca4-4993-b37c-471d4b0936ed",
   "metadata": {},
   "outputs": [],
   "source": [
    "m.work(12)"
   ]
  },
  {
   "cell_type": "code",
   "execution_count": null,
   "id": "d53d5f88-b958-4a6d-9a48-8599bd9d028e",
   "metadata": {},
   "outputs": [],
   "source": [
    "from employees import TemporarySecretary"
   ]
  },
  {
   "cell_type": "code",
   "execution_count": null,
   "id": "ff08c24a-4032-4d56-ad87-c25153bac941",
   "metadata": {},
   "outputs": [],
   "source": [
    "t=TemporarySecretary(3,\"kamil\",800,70)"
   ]
  },
  {
   "cell_type": "code",
   "execution_count": null,
   "id": "628b8a25-e5f1-4d52-9cac-34731e7c74f0",
   "metadata": {},
   "outputs": [],
   "source": [
    "t.work(12)"
   ]
  },
  {
   "cell_type": "code",
   "execution_count": null,
   "id": "9668a1ff-0678-46a2-80dc-c386af7bea5c",
   "metadata": {},
   "outputs": [],
   "source": [
    "t.calculate_payroll()"
   ]
  },
  {
   "cell_type": "markdown",
   "id": "ca5a16ad-ce18-44ec-8d9e-bb2e826416d1",
   "metadata": {},
   "source": [
    "# LAB:10 COMPLETED BY NAME: MUHAMMAD REHAN.\n",
    "# REG NO: 23JZELE0522.\n",
    "# SECTI0N: A"
   ]
  }
 ],
 "metadata": {
  "kernelspec": {
   "display_name": "Python 3 (ipykernel)",
   "language": "python",
   "name": "python3"
  },
  "language_info": {
   "codemirror_mode": {
    "name": "ipython",
    "version": 3
   },
   "file_extension": ".py",
   "mimetype": "text/x-python",
   "name": "python",
   "nbconvert_exporter": "python",
   "pygments_lexer": "ipython3",
   "version": "3.12.4"
  }
 },
 "nbformat": 4,
 "nbformat_minor": 5
}
