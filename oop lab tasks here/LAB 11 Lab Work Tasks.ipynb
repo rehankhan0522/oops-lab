{
 "cells": [
  {
   "cell_type": "markdown",
   "id": "9f8fa9ab-da1e-4d2a-931e-e233e41c5cee",
   "metadata": {},
   "source": [
    "## <p style=\"color:black ; font-size:34px; font-family: Algerian ; text-align:center;\">Lab Title: EE:271 \"OOP & Data Structures\""
   ]
  },
  {
   "cell_type": "markdown",
   "id": "6ce412b4-adf1-4b01-ab7a-627a744dbefe",
   "metadata": {},
   "source": [
    "<p style=\"color:blue ; font-size:25px; font-family: Algerian ; text-align:center;\">Lab Work tasks:"
   ]
  },
  {
   "cell_type": "markdown",
   "id": "db9528d2-5d66-46f1-9c91-d37deef1477c",
   "metadata": {},
   "source": [
    "***"
   ]
  },
  {
   "cell_type": "markdown",
   "id": "b8291e04-b712-4d8a-b62e-e642e564dfee",
   "metadata": {},
   "source": [
    "## i.Make a node base implementation for Stack and pass different data types and push and pop different items and display the top item.\n"
   ]
  },
  {
   "cell_type": "code",
   "execution_count": 16,
   "id": "e3fbf2d9-7c1e-489d-9584-290217280635",
   "metadata": {},
   "outputs": [],
   "source": [
    "class Node:\n",
    "    def __init__(self, data):\n",
    "        self.data = data\n",
    "        self.next = None\n",
    "\n",
    "class NodeStack:\n",
    "    def __init__(self):\n",
    "        self.top = None\n",
    "\n",
    "    def is_empty(self):\n",
    "        return self.top is None\n",
    "\n",
    "    def push(self, item):\n",
    "        new_node = Node(item)\n",
    "        new_node.next = self.top\n",
    "        self.top = new_node\n",
    "\n",
    "    def pop(self):\n",
    "        if not self.is_empty():\n",
    "            popped_item = self.top.data\n",
    "            self.top = self.top.next\n",
    "            return popped_item\n",
    "        else:\n",
    "            print(\"Stack is empty\")"
   ]
  },
  {
   "cell_type": "code",
   "execution_count": 18,
   "id": "fea6f895-a69a-4473-afaa-5d8168915e84",
   "metadata": {},
   "outputs": [],
   "source": [
    "stack = NodeStack()"
   ]
  },
  {
   "cell_type": "code",
   "execution_count": 20,
   "id": "559c4a92-e64c-4239-8970-21b80bead0ca",
   "metadata": {},
   "outputs": [],
   "source": [
    "stack.push(10)"
   ]
  },
  {
   "cell_type": "code",
   "execution_count": 22,
   "id": "b12b22be-db42-4bbc-b9a1-27f51a88464a",
   "metadata": {},
   "outputs": [],
   "source": [
    "stack.push(3.14)"
   ]
  },
  {
   "cell_type": "code",
   "execution_count": 24,
   "id": "4ce368cd-bde0-4048-96da-ace814aefcde",
   "metadata": {},
   "outputs": [],
   "source": [
    "stack.push(\"Hello\")  "
   ]
  },
  {
   "cell_type": "code",
   "execution_count": 26,
   "id": "ba633f56-2483-433d-b976-e5c2c4e385d5",
   "metadata": {},
   "outputs": [],
   "source": [
    "stack.push(True) "
   ]
  },
  {
   "cell_type": "code",
   "execution_count": 27,
   "id": "76f523fc-fcf4-4e6a-8c8a-83da84c6aaf9",
   "metadata": {},
   "outputs": [
    {
     "name": "stdout",
     "output_type": "stream",
     "text": [
      "Popped: True\n"
     ]
    }
   ],
   "source": [
    "print(\"Popped:\", stack.pop()) "
   ]
  },
  {
   "cell_type": "code",
   "execution_count": 28,
   "id": "5d7dbd5a-ee21-474a-95fc-d194aa44f8c1",
   "metadata": {},
   "outputs": [
    {
     "name": "stdout",
     "output_type": "stream",
     "text": [
      "Popped: Hello\n"
     ]
    }
   ],
   "source": [
    "print(\"Popped:\", stack.pop())  "
   ]
  },
  {
   "cell_type": "code",
   "execution_count": 29,
   "id": "53086f65-3bc6-4476-be37-8922d9615fad",
   "metadata": {},
   "outputs": [
    {
     "name": "stdout",
     "output_type": "stream",
     "text": [
      "Popped: 3.14\n"
     ]
    }
   ],
   "source": [
    "print(\"Popped:\", stack.pop())  "
   ]
  },
  {
   "cell_type": "code",
   "execution_count": 30,
   "id": "2ac56e0e-5b21-4a33-90cc-217780f009d5",
   "metadata": {},
   "outputs": [
    {
     "name": "stdout",
     "output_type": "stream",
     "text": [
      "Top item: 10\n"
     ]
    }
   ],
   "source": [
    "print(\"Top item:\", stack.top.data)"
   ]
  },
  {
   "cell_type": "markdown",
   "id": "2a62dafd-85ea-4c63-8f72-8980cf67b22a",
   "metadata": {},
   "source": [
    "## <p style=\"color:black ; font-size:33px; font-family: Algerian ; text-align:center;\">IMPLEMENTATION OF STACKS IN PYTHON:"
   ]
  },
  {
   "cell_type": "markdown",
   "id": "46584a18-9552-45ea-bf14-5ae38afd7c70",
   "metadata": {},
   "source": [
    "## <p style=\"color:blue ; font-size:35px; font-family: Algerian ; text-align:center;\">1.List Stack"
   ]
  },
  {
   "cell_type": "code",
   "execution_count": 33,
   "id": "264c9e3c-c280-46ec-bd01-c7e4562813ea",
   "metadata": {},
   "outputs": [],
   "source": [
    "class StackList:\n",
    "    def __init__(self):\n",
    "        self.items = []\n",
    "\n",
    "    def is_empty(self):\n",
    "        return len(self.items) == 0\n",
    "\n",
    "    def push(self, item):\n",
    "        self.items.append(item)\n",
    "\n",
    "    def pop(self):\n",
    "        if not self.is_empty():\n",
    "            return self.items.pop()\n",
    "        else:\n",
    "            print(\"Stack is empty\")\n",
    "\n",
    "    def peek(self):\n",
    "        if not self.is_empty():\n",
    "            return self.items[-1]\n",
    "        else:\n",
    "            print(\"Stack is empty\")\n",
    "\n",
    "    def size(self):\n",
    "        return len(self.items)"
   ]
  },
  {
   "cell_type": "markdown",
   "id": "ba7d6f5a-7913-4599-b9e3-a4f2478a3657",
   "metadata": {},
   "source": [
    "## <p style=\"color:black ; font-size:34px; font-family: Algerian ; text-align:center;\">2.Creating Object Of This Class:"
   ]
  },
  {
   "cell_type": "code",
   "execution_count": 35,
   "id": "98d0180f-42b5-4a96-af11-9b766e3d5047",
   "metadata": {},
   "outputs": [],
   "source": [
    "stack_list = StackList()"
   ]
  },
  {
   "cell_type": "markdown",
   "id": "36783593-a10c-4ee8-a38b-42cdf338e288",
   "metadata": {},
   "source": [
    "## <p style=\"color:blue ; font-size:32px; font-family: Algerian ; text-align:center;\">In This Implementation:"
   ]
  },
  {
   "cell_type": "code",
   "execution_count": 37,
   "id": "c2c8b59b-5b04-4b77-ad5b-7dea13509035",
   "metadata": {},
   "outputs": [],
   "source": [
    "class StackList:\n",
    "    def __init__(self):\n",
    "        self.items = []\n",
    "\n",
    "    def is_empty(self):\n",
    "        return len(self.items) == 0\n",
    "\n",
    "    def push(self, item):\n",
    "        self.items.append(item)\n",
    "\n",
    "    def pop(self):\n",
    "        if not self.is_empty():\n",
    "            return self.items.pop()\n",
    "        else:\n",
    "            print(\"Stack is empty\")\n",
    "\n",
    "    def peek(self):\n",
    "        if not self.is_empty():\n",
    "            return self.items[-1]\n",
    "        else:\n",
    "            print(\"Stack is empty\")\n",
    "\n",
    "    def size(self):\n",
    "        return len(self.items)"
   ]
  },
  {
   "cell_type": "code",
   "execution_count": 38,
   "id": "849e4716-5a9a-452e-90ea-4305e0924073",
   "metadata": {},
   "outputs": [],
   "source": [
    "stack = StackList()"
   ]
  },
  {
   "cell_type": "markdown",
   "id": "8419831d-a773-4ebd-be5c-51e0a8fc878c",
   "metadata": {},
   "source": [
    " The __init__ method initializes an empty list to store the stack \n",
    "elements."
   ]
  },
  {
   "cell_type": "markdown",
   "id": "4fcd9806-7b70-4f13-8e39-df6e3370a1fe",
   "metadata": {},
   "source": [
    "is_empty() checks if the stack is empty."
   ]
  },
  {
   "cell_type": "markdown",
   "id": "56c4c0a8-e890-40a0-8c09-53bcf535cfcc",
   "metadata": {},
   "source": [
    " push(item) adds an item to the top of the stack using the append()\n",
    "method."
   ]
  },
  {
   "cell_type": "code",
   "execution_count": 42,
   "id": "34dfbb94-2ac9-4d72-82e5-31bc90d04278",
   "metadata": {},
   "outputs": [],
   "source": [
    "stack.push(1)\n",
    "stack.push(2)\n",
    "stack.push(3)"
   ]
  },
  {
   "cell_type": "markdown",
   "id": "72444d02-84bf-4f1f-b69d-2944e1bda068",
   "metadata": {},
   "source": [
    "pop() removes and returns the item from the top of the stack using \n",
    "the pop() method."
   ]
  },
  {
   "cell_type": "code",
   "execution_count": 44,
   "id": "bb7f19b9-ccb2-4a0c-b388-ecaf2400a95c",
   "metadata": {},
   "outputs": [
    {
     "name": "stdout",
     "output_type": "stream",
     "text": [
      "pop: 3\n"
     ]
    }
   ],
   "source": [
    "print(\"pop:\", stack.pop())"
   ]
  },
  {
   "cell_type": "markdown",
   "id": "072760e7-dc3a-487d-9718-d84a1a36c405",
   "metadata": {},
   "source": [
    " peek() returns the item from the top of the stack without removing \n",
    "it."
   ]
  },
  {
   "cell_type": "code",
   "execution_count": 46,
   "id": "38ac2418-7de5-4f04-9f45-f2b962cbc18e",
   "metadata": {},
   "outputs": [
    {
     "name": "stdout",
     "output_type": "stream",
     "text": [
      "Peek: 2\n"
     ]
    }
   ],
   "source": [
    "print(\"Peek:\", stack.peek())"
   ]
  },
  {
   "cell_type": "markdown",
   "id": "a50ec4d8-798b-4c7f-bf06-00e21085595d",
   "metadata": {},
   "source": [
    "size() returns the number of elements in the stack."
   ]
  },
  {
   "cell_type": "code",
   "execution_count": 48,
   "id": "b0996451-925c-4501-95d3-0d7bc59ba7bc",
   "metadata": {},
   "outputs": [
    {
     "name": "stdout",
     "output_type": "stream",
     "text": [
      "Stack size: 2\n"
     ]
    }
   ],
   "source": [
    "print(\"Stack size:\",stack.size())"
   ]
  },
  {
   "cell_type": "markdown",
   "id": "9c613952-7c71-42fc-b3fb-6a7aad4b9018",
   "metadata": {},
   "source": [
    "## <p style=\"color:blue ; font-size:35px; font-family: Algerian ; text-align:center;\">1.Deque Implementation:"
   ]
  },
  {
   "cell_type": "markdown",
   "id": "0c708009-4126-4800-93b1-a00dd10e8120",
   "metadata": {},
   "source": [
    "# i.A deque (double-ended queue) is a versatile data structure that allows efficient insertion and deletion operations at both ends. In Python, you can implement a deque using the collections.deque class."
   ]
  },
  {
   "cell_type": "code",
   "execution_count": 51,
   "id": "9aeda2ea-86e7-4d4c-b3a2-abbd70267c03",
   "metadata": {},
   "outputs": [],
   "source": [
    "from collections import deque\n",
    "class StackDeque:\n",
    "    def __init__(self):\n",
    "        self.items = deque()\n",
    "\n",
    "    def is_empty(self):\n",
    "        return len(self.items) == 0\n",
    "\n",
    "    def push(self, item):\n",
    "        self.items.append(item)\n",
    "\n",
    "    def pop(self):\n",
    "        if not self.is_empty():\n",
    "            return self.items.pop()\n",
    "        else:\n",
    "            print(\"Stack is empty\")\n",
    "\n",
    "    def peek(self):\n",
    "        if not self.is_empty():\n",
    "            return self.items[-1]\n",
    "        else:\n",
    "            print(\"Stack is empty\")\n",
    "\n",
    "    def size(self):\n",
    "        return len(self.items)"
   ]
  },
  {
   "cell_type": "markdown",
   "id": "1b367664-633a-4f15-8646-c7c5c1e9fb5f",
   "metadata": {},
   "source": [
    " a. Creating Data types in Deque Stack Implementation."
   ]
  },
  {
   "cell_type": "code",
   "execution_count": 53,
   "id": "b351752d-06ba-4b05-87b4-22558b88f114",
   "metadata": {},
   "outputs": [],
   "source": [
    "stack1 = StackDeque()\n",
    "stack2 = StackDeque()"
   ]
  },
  {
   "cell_type": "markdown",
   "id": "30a336bf-a11f-44f4-8289-451beeef4918",
   "metadata": {},
   "source": [
    "b. Pushing element in Stack:"
   ]
  },
  {
   "cell_type": "code",
   "execution_count": 55,
   "id": "0777ceb9-3955-4981-bed5-afcd6dfdb738",
   "metadata": {},
   "outputs": [],
   "source": [
    "stack1.push(1)\n",
    "stack1.push(2)\n",
    "stack1.push(3)"
   ]
  },
  {
   "cell_type": "code",
   "execution_count": 56,
   "id": "537e48e2-7d2c-4fa1-8f14-ca0706449304",
   "metadata": {},
   "outputs": [],
   "source": [
    "stack2.push(\"apple\")\n",
    "stack2.push(\"banana\")\n",
    "stack2.push(\"cherry\")"
   ]
  },
  {
   "cell_type": "code",
   "execution_count": 57,
   "id": "580e7de8-1943-4366-b9e3-34fef5895a04",
   "metadata": {},
   "outputs": [
    {
     "name": "stdout",
     "output_type": "stream",
     "text": [
      "Stack1:\n",
      "Stack2: <__main__.StackDeque object at 0x0000026B960FA660>\n"
     ]
    }
   ],
   "source": [
    "print(\"Stack1:\")\n",
    "print(\"Stack2:\", stack2)"
   ]
  },
  {
   "cell_type": "markdown",
   "id": "d31d23ec-cc80-4301-b4b4-5cc4faba6b31",
   "metadata": {},
   "source": [
    "c. Popping out element from Stack."
   ]
  },
  {
   "cell_type": "code",
   "execution_count": 59,
   "id": "8fed006b-5d9f-4b35-b7c0-5a2c5cf1adcb",
   "metadata": {},
   "outputs": [],
   "source": [
    "popped1=stack1.pop()\n",
    "popped2=stack1.pop()"
   ]
  },
  {
   "cell_type": "code",
   "execution_count": 60,
   "id": "6e19a64a-c07c-4533-8fb2-912b29edb6d7",
   "metadata": {},
   "outputs": [],
   "source": [
    "popped3=stack2.pop()\n",
    "popped4=stack2.pop()"
   ]
  },
  {
   "cell_type": "code",
   "execution_count": 61,
   "id": "b44cacd2-44b3-495d-94bb-02b55bf64ec1",
   "metadata": {},
   "outputs": [
    {
     "name": "stdout",
     "output_type": "stream",
     "text": [
      "Popped from Stack1: 3 2\n",
      "Popped from Stack2: cherry banana\n"
     ]
    }
   ],
   "source": [
    "print(\"Popped from Stack1:\", popped1, popped2)\n",
    "print(\"Popped from Stack2:\", popped3, popped4)"
   ]
  },
  {
   "cell_type": "code",
   "execution_count": 62,
   "id": "1974ab27-1cb7-4edc-91a6-94aeaf5a32e1",
   "metadata": {},
   "outputs": [
    {
     "name": "stdout",
     "output_type": "stream",
     "text": [
      "current Stack1:\n",
      "current Stack2:\n"
     ]
    }
   ],
   "source": [
    "print(\"current Stack1:\")\n",
    "print(\"current Stack2:\")"
   ]
  },
  {
   "cell_type": "markdown",
   "id": "813e44af-940c-4122-8cf3-ef0f3fd52fe2",
   "metadata": {},
   "source": [
    "## <p style=\"color:blue ; font-size:35px; font-family: Algerian ; text-align:center;\">2.NODE BASE IMPLEMENTATION:"
   ]
  },
  {
   "cell_type": "markdown",
   "id": "539ce633-61dd-4928-b22f-18a1da3bddab",
   "metadata": {},
   "source": [
    "# i.A node-based implementation refers to a data structure or algorithm design that involves the use of nodes, where each node contains data and a Department of Electrical Engineering , UET Peshawar Jalozai Campus reference (or link) to the next node in the sequence. This is commonly seen in linked lists, stacks, and queues."
   ]
  },
  {
   "cell_type": "markdown",
   "id": "a3cdfce8-091d-4a93-8169-6f8a83bfbc57",
   "metadata": {},
   "source": [
    "# ii. The Node class represents each element in the stack with a data attribute and a next attribute pointing to the next node."
   ]
  },
  {
   "cell_type": "code",
   "execution_count": 88,
   "id": "4515479f-2008-4ce9-b9b7-d895b96e6b8e",
   "metadata": {},
   "outputs": [],
   "source": [
    "class Node:\n",
    "    def __init__(self, data):\n",
    "        self.data = data\n",
    "        self.next = None"
   ]
  },
  {
   "cell_type": "markdown",
   "id": "b3e54201-af0c-4382-bb46-c69e05603b31",
   "metadata": {},
   "source": [
    " The NodeStack class maintains a reference to the top of the stack \n",
    "(top)."
   ]
  },
  {
   "cell_type": "code",
   "execution_count": 91,
   "id": "bc647ed7-9709-469a-99a4-c1c3910ec1c2",
   "metadata": {},
   "outputs": [],
   "source": [
    "class NodeStack:\n",
    "    def __init__(self):\n",
    "        self.top = None"
   ]
  },
  {
   "cell_type": "markdown",
   "id": "f8124268-fd60-4d28-ab94-6b5ff1fe2bb9",
   "metadata": {},
   "source": [
    " The push() method adds a new node to the top of the stack."
   ]
  },
  {
   "cell_type": "code",
   "execution_count": 94,
   "id": "656e82d2-ae28-475f-941a-a87d0d1e7db5",
   "metadata": {},
   "outputs": [],
   "source": [
    "def push(self, item):\n",
    "  new_node = Node(item)\n",
    "  new_node.next = self.top\n",
    "  self.top = new_node"
   ]
  },
  {
   "cell_type": "markdown",
   "id": "92e1ac47-b58f-40d9-b7d6-fd8d0d54ef75",
   "metadata": {},
   "source": [
    " The pop() method removes and returns the item from the top of the \n",
    "stack."
   ]
  },
  {
   "cell_type": "code",
   "execution_count": 97,
   "id": "cb30ee4e-1de9-4733-baa4-4a31411b5df3",
   "metadata": {},
   "outputs": [],
   "source": [
    "def pop(self):\n",
    "    if not self.is_empty():\n",
    "        popped_item = self.top.data\n",
    "        self.top = self.top.next\n",
    "        return popped_item\n",
    "    else:\n",
    "        print(\"Stack is empty\")"
   ]
  },
  {
   "cell_type": "markdown",
   "id": "73bc2b4e-d409-438b-b3e1-8962de02d979",
   "metadata": {},
   "source": [
    " The peek() method returns the item from the top of the stack \n",
    "without removing it."
   ]
  },
  {
   "cell_type": "code",
   "execution_count": 100,
   "id": "7ab59b37-68fa-4603-8704-34c0ccafc715",
   "metadata": {},
   "outputs": [],
   "source": [
    "def peek(self):\n",
    "    if not self.is_empty():\n",
    "        return self.top.data\n",
    "    else:\n",
    "        print(\"stack is empty\")"
   ]
  },
  {
   "cell_type": "markdown",
   "id": "fd2b93f3-c982-4cfe-a5df-0052eb2e9047",
   "metadata": {},
   "source": [
    "The size() method calculates the number of elements in the stack by \n",
    "traversing the linked nodes."
   ]
  },
  {
   "cell_type": "code",
   "execution_count": 103,
   "id": "f097472c-7aa9-4e53-8910-aca92922c627",
   "metadata": {},
   "outputs": [],
   "source": [
    "def size(self):\n",
    "    current=self.top\n",
    "    count=0\n",
    "    while current:\n",
    "        count +=1\n",
    "        current=current.next\n",
    "    return count"
   ]
  },
  {
   "cell_type": "markdown",
   "id": "888ed3b8-70b6-451a-87d9-004d47d18b78",
   "metadata": {},
   "source": [
    "## <p style=\"color:blue ; font-size:35px; font-family: Algerian ; text-align:center;\">3. NOW CREATING INSTANCES:"
   ]
  },
  {
   "cell_type": "markdown",
   "id": "3ee7329d-0937-4e56-9025-b070bf59db14",
   "metadata": {},
   "source": [
    "## Creating instances of Node base Stack and apply push pop and other methods on that instance."
   ]
  },
  {
   "cell_type": "code",
   "execution_count": 107,
   "id": "e521b2f9-1aac-4e00-874a-099152121cee",
   "metadata": {},
   "outputs": [],
   "source": [
    "class Node:\n",
    "    def __init__(self, data):\n",
    "        self.data = data\n",
    "        self.next = None\n",
    "\n",
    "class NodeStack:\n",
    "    def __init__(self):\n",
    "        self.top = None\n",
    "\n",
    "    def push(self, item):\n",
    "        new_node = Node(item)\n",
    "        new_node.next = self.top\n",
    "        self.top = new_node\n",
    "\n",
    "    def pop(self):\n",
    "        if not self.is_empty():\n",
    "            popped_item = self.top.data\n",
    "            self.top = self.top.next\n",
    "            return popped_item\n",
    "        else:\n",
    "            print(\"Stack is empty\")\n",
    "\n",
    "    def peek(self):\n",
    "        if not self.is_empty():\n",
    "            return self.top.data\n",
    "        else:\n",
    "            print(\"Stack is empty\")\n",
    "\n",
    "    def size(self):\n",
    "        current = self.top\n",
    "        count = 0\n",
    "        while current:\n",
    "            count += 1\n",
    "            current = current.next\n",
    "        return count\n",
    "\n",
    "    def is_empty(self):\n",
    "        return self.top is None"
   ]
  },
  {
   "cell_type": "code",
   "execution_count": 109,
   "id": "42cf99f5-bd28-4c57-9ddc-e44745d19392",
   "metadata": {},
   "outputs": [],
   "source": [
    "stack=NodeStack()"
   ]
  },
  {
   "cell_type": "code",
   "execution_count": 111,
   "id": "3fc2e6ce-5ab0-46a9-b372-7b97052024f6",
   "metadata": {},
   "outputs": [],
   "source": [
    "stack.push(1)\n",
    "stack.push(2)\n",
    "stack.push(3)"
   ]
  },
  {
   "cell_type": "code",
   "execution_count": 113,
   "id": "bf3003b2-79d4-403e-9303-84920ba29749",
   "metadata": {},
   "outputs": [
    {
     "name": "stdout",
     "output_type": "stream",
     "text": [
      "Peek: 3\n",
      "Pop: 3\n",
      "Stack size: 2\n"
     ]
    }
   ],
   "source": [
    "print(\"Peek:\", stack.peek())\n",
    "print(\"Pop:\", stack.pop())\n",
    "print(\"Stack size:\", stack.size())"
   ]
  },
  {
   "cell_type": "markdown",
   "id": "55a65e3d-8344-4e0a-ae37-6f0a5da40b6b",
   "metadata": {},
   "source": [
    "# LAB:10 COMPLETED BY NAME: MUHAMMAD REHAN.\n",
    "# REG NO: 23JZELE0522.\n",
    "# SECTI0N: A"
   ]
  }
 ],
 "metadata": {
  "kernelspec": {
   "display_name": "Python 3 (ipykernel)",
   "language": "python",
   "name": "python3"
  },
  "language_info": {
   "codemirror_mode": {
    "name": "ipython",
    "version": 3
   },
   "file_extension": ".py",
   "mimetype": "text/x-python",
   "name": "python",
   "nbconvert_exporter": "python",
   "pygments_lexer": "ipython3",
   "version": "3.12.4"
  }
 },
 "nbformat": 4,
 "nbformat_minor": 5
}
