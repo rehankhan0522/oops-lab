{
 "cells": [
  {
   "cell_type": "markdown",
   "id": "27b3fd3b-8e39-456f-a76d-25321f46a2ff",
   "metadata": {},
   "source": [
    "## <p style=\"color:black; font-size:34px; font-family: Algerian ; text-align:center;\">Lab Title: EE:271 \"OOP & Data Structures\""
   ]
  },
  {
   "cell_type": "markdown",
   "id": "3e9fed2c-a961-42bc-b38c-f0632e3471f3",
   "metadata": {},
   "source": [
    "***"
   ]
  },
  {
   "cell_type": "markdown",
   "id": "0a918163-229e-493c-87ba-4c2bb396903b",
   "metadata": {},
   "source": [
    "<p style=\"color:red ; font-size:30px; font-family: Algerian ; text-align:center;\">QUEUE ALGORITHMS"
   ]
  },
  {
   "cell_type": "markdown",
   "id": "4422f0d3-b256-4fee-ad62-ec11cba900d4",
   "metadata": {},
   "source": [
    "<p style=\"color:blue ; font-size:25px; font-family: Algerian ; text-align:center;\">1.LIST QUEUE:"
   ]
  },
  {
   "cell_type": "markdown",
   "id": "919313b8-489f-40d8-9409-bff865f481f9",
   "metadata": {},
   "source": [
    "## a.Run this Code:"
   ]
  },
  {
   "cell_type": "code",
   "execution_count": 21,
   "id": "10244039-c14d-441a-870b-c43711afddc0",
   "metadata": {},
   "outputs": [],
   "source": [
    "class Queue:\n",
    "    def __init__(self):\n",
    "        self.items = []\n",
    "\n",
    "    def is_empty(self):\n",
    "        return len(self.items) == 0"
   ]
  },
  {
   "cell_type": "markdown",
   "id": "46d22f76-2249-435c-8ea2-ceaeb2698e6e",
   "metadata": {},
   "source": [
    "i. __init__(self):This is the constructor method that initializes a new \n",
    "instance of the Queue class. It creates an empty list (self.items) to store \n",
    "the elements of the queue\n",
    "ii. is_empty(self): This method returns True if the queue is empty.\n",
    "(i.e., it has no elements), and False otherwise. It checks the length of the \n",
    "list (self.items) to determine if the queue is empty."
   ]
  },
  {
   "cell_type": "markdown",
   "id": "13390c95-363e-4f50-b980-b01506d3e6b3",
   "metadata": {},
   "source": [
    "## b.Run the Following Code:"
   ]
  },
  {
   "cell_type": "code",
   "execution_count": 22,
   "id": "eae2da8a-3d67-4455-86d8-2fe44a473692",
   "metadata": {},
   "outputs": [],
   "source": [
    "def enqueue(self, item):\n",
    "    self.items.append(item)"
   ]
  },
  {
   "cell_type": "markdown",
   "id": "7b4c2aa7-c555-4da5-911a-b9ade453fb92",
   "metadata": {},
   "source": [
    "iii. enqueue(self, item): This method adds an item to the rear of the queue. \n",
    "It appends the specified item to the end of the list (self.items), effectively \n",
    "adding it to the rear of the queue."
   ]
  },
  {
   "cell_type": "markdown",
   "id": "170172a9-1eb1-4027-9485-72de6c72ee09",
   "metadata": {},
   "source": [
    "## c. Now Run this Code:"
   ]
  },
  {
   "cell_type": "code",
   "execution_count": 1,
   "id": "3128d3c6-7143-4799-8751-2b392c7ba905",
   "metadata": {},
   "outputs": [],
   "source": [
    "def dequeue(self):\n",
    "    if not self.is_empty():\n",
    "        return self.items.pop(0)\n",
    "    else:\n",
    "        print(\"Queue is empty. Cannot dequeue.\")"
   ]
  },
  {
   "cell_type": "markdown",
   "id": "840a8bd0-170f-425f-90e7-9a43bfbe32da",
   "metadata": {},
   "source": [
    "iv. dequeue(self): This method removes and returns the item from the front \n",
    "of the queue. It uses the pop(0) method to remove and return the first \n",
    "element in the list. Before attempting to dequeue, it checks if the queue \n",
    "is empty using the is_empty method to avoid errors."
   ]
  },
  {
   "cell_type": "markdown",
   "id": "069da677-f349-41b0-aa50-b94df0dfa8d2",
   "metadata": {},
   "source": [
    "## d. Now Run this code:"
   ]
  },
  {
   "cell_type": "code",
   "execution_count": null,
   "id": "6b904588-8e63-4181-8f9b-f1cc9f7ff13c",
   "metadata": {},
   "outputs": [],
   "source": [
    "my_queue = Queue()"
   ]
  },
  {
   "cell_type": "code",
   "execution_count": null,
   "id": "2c80cc6a-2138-4990-91ef-bf9b392ab171",
   "metadata": {},
   "outputs": [],
   "source": [
    "my_queue.enqueue(1)\n",
    "my_queue.enqueue(2)\n",
    "my_queue.enqueue(3)"
   ]
  },
  {
   "cell_type": "markdown",
   "id": "adf4452e-b3db-49ee-8c8d-0bdccc24e4f1",
   "metadata": {},
   "source": [
    "v. This example creates a Queue object, enqueues three elements (1, 2, and 3), prints the queue, dequeues two elements, and checks if the queue is empty. The output should demonstrate the basic functionality of the queue."
   ]
  },
  {
   "cell_type": "markdown",
   "id": "aec887ef-3407-425c-af1e-8e210118542f",
   "metadata": {},
   "source": [
    "# 2.DEQUE QUEUE:"
   ]
  },
  {
   "cell_type": "code",
   "execution_count": 198,
   "id": "f8e69477-1c2b-4e70-9f98-ddec4cf936e8",
   "metadata": {},
   "outputs": [],
   "source": [
    "from collections import deque\n",
    "\n",
    "class DequeQueue:\n",
    "    def __init__(self):\n",
    "        self.items = deque()\n",
    "\n",
    "    def is_empty(self):\n",
    "        return len(self.items) == 0\n",
    "\n",
    "    def enqueue(self, item):\n",
    "        self.items.append(item)\n",
    "\n",
    "    def dequeue(self):\n",
    "        if not self.is_empty():\n",
    "            return self.items.popleft()\n",
    "        else:\n",
    "            print(\"Queue is empty. Cannot dequeue.\")"
   ]
  },
  {
   "cell_type": "markdown",
   "id": "0a1f28e4-71f4-4e2f-8186-65f096ebaa4f",
   "metadata": {},
   "source": [
    "i. __init__(self): The constructor initializes a new instance of the \n",
    "DequeQueue class. It creates an empty deque (self.items) to store the \n",
    "elements of the queue."
   ]
  },
  {
   "cell_type": "code",
   "execution_count": 201,
   "id": "3bebc1b7-23ce-4bbd-91f8-4581a7011413",
   "metadata": {},
   "outputs": [],
   "source": [
    "def __init__(self):\n",
    "    self.items = deque()"
   ]
  },
  {
   "cell_type": "markdown",
   "id": "c2eee1fd-cff5-455b-ae9d-3434e20f2365",
   "metadata": {},
   "source": [
    "ii. is_empty(self): This method returns True if the queue is empty (i.e., it \n",
    "has no elements), and False otherwise. It checks the length of the deque \n",
    "(self.items) to determine if the queue is empty."
   ]
  },
  {
   "cell_type": "code",
   "execution_count": 204,
   "id": "b7431618-7a56-4b7e-b1fe-08f4118aadf0",
   "metadata": {},
   "outputs": [],
   "source": [
    "def is_empty(self):\n",
    "    return len(self.items) == 0"
   ]
  },
  {
   "cell_type": "markdown",
   "id": "46a4a816-703d-4a5a-94ee-2972835dabce",
   "metadata": {},
   "source": [
    "iii. enqueue(self, item): This method adds an item to the rear of the queue. \n",
    "It uses the append method of the deque to add the specified item to the \n",
    "end, effectively enqueueing it"
   ]
  },
  {
   "cell_type": "code",
   "execution_count": 207,
   "id": "28faaf71-f649-4be1-bd86-f6742223a917",
   "metadata": {},
   "outputs": [],
   "source": [
    "def enqueue(self, item):\n",
    "    self.items.append(item)"
   ]
  },
  {
   "cell_type": "markdown",
   "id": "503d1839-bcf5-422b-9484-80679eee2ee5",
   "metadata": {},
   "source": [
    "iv. dequeue(self): This method removes and returns the item from the front \n",
    "of the queue. It uses the popleft method of the deque to remove and \n",
    "return the leftmost element. Before attempting to dequeue, it checks if \n",
    "the queue is empty using the is_empty method to avoid errors."
   ]
  },
  {
   "cell_type": "code",
   "execution_count": 210,
   "id": "f90f287e-fa62-4d1c-85f7-0a4971d8585d",
   "metadata": {},
   "outputs": [],
   "source": [
    "def dequeue(self):\n",
    "    if not self.is_empty():\n",
    "        return self.items.popleft()\n",
    "    else:\n",
    "        print(\"Queue is empty. Cannot dequeue.\")"
   ]
  },
  {
   "cell_type": "markdown",
   "id": "1b277557-4e98-48d6-9481-79606b424189",
   "metadata": {},
   "source": [
    "v. This creates a DequeQueue object, enqueues three elements, prints the \n",
    "queue, dequeues two elements, and checks if the queue is empty. The \n",
    "output should demonstrate the basic functionality of the deque-based \n",
    "queue."
   ]
  },
  {
   "cell_type": "code",
   "execution_count": 213,
   "id": "7a61bf65-5fc5-4705-a347-86b4ac8972a0",
   "metadata": {},
   "outputs": [],
   "source": [
    "from collections import deque\n",
    "\n",
    "class DequeQueue:\n",
    "    def __init__(self):\n",
    "        self.items = deque()\n",
    "\n",
    "    def is_empty(self):\n",
    "        return len(self.items) == 0\n",
    "\n",
    "    def enqueue(self, item):\n",
    "        self.items.append(item)\n",
    "\n",
    "    def dequeue(self):\n",
    "        if not self.is_empty():\n",
    "            return self.items.popleft()\n",
    "        else:\n",
    "            print(\"Queue is empty. Cannot dequeue.\")"
   ]
  },
  {
   "cell_type": "code",
   "execution_count": 215,
   "id": "dcd93e01-7304-497b-a2e3-63529aa1d062",
   "metadata": {},
   "outputs": [],
   "source": [
    "my_queue = DequeQueue()"
   ]
  },
  {
   "cell_type": "code",
   "execution_count": 217,
   "id": "a21591d0-56b0-4bf5-ab3a-ca75ad6c4b72",
   "metadata": {},
   "outputs": [],
   "source": [
    "my_queue.enqueue(1)\n",
    "my_queue.enqueue(2)\n",
    "my_queue.enqueue(3)"
   ]
  },
  {
   "cell_type": "code",
   "execution_count": 219,
   "id": "b582e530-cc27-45d1-a161-eac1ae718393",
   "metadata": {},
   "outputs": [
    {
     "name": "stdout",
     "output_type": "stream",
     "text": [
      "Current Queue: [1, 2, 3]\n"
     ]
    }
   ],
   "source": [
    "print(\"Current Queue:\", list(my_queue.items)) "
   ]
  },
  {
   "cell_type": "code",
   "execution_count": 221,
   "id": "a8cc7e91-30d0-422e-9ec0-56475ae417ab",
   "metadata": {},
   "outputs": [
    {
     "name": "stdout",
     "output_type": "stream",
     "text": [
      "Dequeued: 1\n",
      "Dequeued: 2\n"
     ]
    }
   ],
   "source": [
    "print(\"Dequeued:\", my_queue.dequeue())\n",
    "print(\"Dequeued:\", my_queue.dequeue())"
   ]
  },
  {
   "cell_type": "code",
   "execution_count": 223,
   "id": "b9fef7d7-0788-480a-80ca-ef3ce9c6f61d",
   "metadata": {},
   "outputs": [
    {
     "name": "stdout",
     "output_type": "stream",
     "text": [
      "Is the queue empty? False\n"
     ]
    }
   ],
   "source": [
    "print(\"Is the queue empty?\", my_queue.is_empty())"
   ]
  },
  {
   "cell_type": "markdown",
   "id": "7d0fb488-e1eb-4e3a-bd96-9d7d306de60d",
   "metadata": {},
   "source": [
    "# 3.NODE BASE QUEUE:"
   ]
  },
  {
   "cell_type": "code",
   "execution_count": 226,
   "id": "b3ad8d85-30d5-4f26-b293-1669f0351337",
   "metadata": {},
   "outputs": [],
   "source": [
    "class Node:\n",
    "    def __init__(self, data=None):\n",
    "        self.data = data\n",
    "        self.next = None\n",
    "class NodeQueue:\n",
    "    def __init__(self):\n",
    "        self.front = None \n",
    "        self.rear = None   \n",
    "\n",
    "    def is_empty(self):\n",
    "        return self.front is None\n",
    "    def enqueue(self, data):\n",
    "        new_node = Node(data)\n",
    "        if self.rear is None:\n",
    "            self.front = new_node\n",
    "            self.rear = new_node\n",
    "        else: \n",
    "            self.rear.next = new_node\n",
    "            self.rear = new_node\n",
    "    def dequeue(self):\n",
    "        if self.is_empty():\n",
    "            print(\"Queue is empty. Cannot dequeue.\")\n",
    "            return None\n",
    "\n",
    "        else:  \n",
    "            removed_data = self.front.data\n",
    "            self.front = self.front.next\n",
    "            if self.front is None:\n",
    "                self.rear = None\n",
    "\n",
    "            return removed_data"
   ]
  },
  {
   "cell_type": "markdown",
   "id": "ec1f3abd-035e-4ebc-914e-02f5f75345bd",
   "metadata": {},
   "source": [
    "i. Node class: This class represents a node in the queue. Each node \n",
    "contains data and a reference to the next node in the queue."
   ]
  },
  {
   "cell_type": "code",
   "execution_count": 12,
   "id": "b68951b5-675f-4867-ba4a-6eaf2e278ea0",
   "metadata": {},
   "outputs": [],
   "source": [
    "class Node:\n",
    "    def __init__(self, data=None):\n",
    "        self.data = data\n",
    "        self.next = None"
   ]
  },
  {
   "cell_type": "markdown",
   "id": "e9c44267-227e-411e-a913-bd0731dafe8f",
   "metadata": {},
   "source": [
    "ii. __init__(self): The constructor initializes a new instance of the \n",
    "NodeQueue class. It sets both the front and rear pointers to None\n",
    "because the queue is initially empty."
   ]
  },
  {
   "cell_type": "code",
   "execution_count": 13,
   "id": "fafb580b-5e2a-4c3d-8aaf-39e9d32fe8d0",
   "metadata": {},
   "outputs": [],
   "source": [
    "class NodeQueue:\n",
    "    def __init__(self):\n",
    "        self.front = None\n",
    "        self.rear = None"
   ]
  },
  {
   "cell_type": "markdown",
   "id": "6170e7ed-6caf-4387-b6ad-70e4e73e155b",
   "metadata": {},
   "source": [
    "iii. is_empty(self): This method returns True if the queue is empty (i.e., \n",
    "front is None), and False otherwise."
   ]
  },
  {
   "cell_type": "code",
   "execution_count": 14,
   "id": "3672a705-028c-4d56-9e71-b55ac33ac90b",
   "metadata": {},
   "outputs": [],
   "source": [
    "def is_empty(self):\n",
    "  return self.front is None"
   ]
  },
  {
   "cell_type": "markdown",
   "id": "10faa8d2-d4da-41d8-9a9e-c3012be63f2a",
   "metadata": {},
   "source": [
    "iv. enqueue(self, data): This method adds a new node with the given \n",
    "data to the rear of the queue. If the queue is empty, both the front and \n",
    "rear pointers are set to the new node."
   ]
  },
  {
   "cell_type": "code",
   "execution_count": 15,
   "id": "76d1846f-da31-48d9-802b-c23129234d82",
   "metadata": {},
   "outputs": [],
   "source": [
    "def enqueue(self, data):\n",
    "    new_node = Node(data)\n",
    "    if self.rear is None:\n",
    "        self.front = self.rear = new_node\n",
    "    else:\n",
    "        self.rear.next = new_node\n",
    "        self.rear = new_node"
   ]
  },
  {
   "cell_type": "markdown",
   "id": "b3c0e1fd-fa2b-4045-ba18-ae0feb7dc6de",
   "metadata": {},
   "source": [
    "v. dequeue(self): This method removes and returns the data from the \n",
    "front of the queue. If the queue becomes empty after dequeue, the \n",
    "rear pointer is also updated to None"
   ]
  },
  {
   "cell_type": "code",
   "execution_count": 16,
   "id": "589f23ca-7b26-4e56-a02f-d548ddeb1be5",
   "metadata": {},
   "outputs": [],
   "source": [
    "def dequeue(self):\n",
    "    if self.is_empty():\n",
    "        print(\"Queue is empty. Cannot dequeue.\")\n",
    "        return None\n",
    "    else:\n",
    "        removed_data = self.front.data\n",
    "        self.front = self.front.next\n",
    "        if self.front is None:\n",
    "            self.rear = None\n",
    "        return removed_data"
   ]
  },
  {
   "cell_type": "markdown",
   "id": "68519876-0279-4d61-8be2-68d8119007a9",
   "metadata": {},
   "source": [
    "vi. This creates a NodeQueue object, enqueues three elements, prints \n",
    "the queue, dequeues two elements, and checks if the queue is empty. \n",
    "The output should demonstrate the basic functionality of the node\u0002based queue."
   ]
  },
  {
   "cell_type": "code",
   "execution_count": null,
   "id": "dd4fca4e-6e15-4dc6-a8bb-a994a1d2aab4",
   "metadata": {},
   "outputs": [],
   "source": [
    "my_node_queue = NodeQueue()\n",
    "my_node_queue.enqueue(1)\n",
    "my_node_queue.enqueue(2)\n",
    "my_node_queue.enqueue(3)\n",
    "\n",
    "print(\"Dequeue:\", my_node_queue.dequeue())\n",
    "print(\"Dequeue:\", my_node_queue.dequeue())\n",
    "\n",
    "print(\"Is the queue empty?\", my_node_queue.is_empty())"
   ]
  },
  {
   "cell_type": "code",
   "execution_count": null,
   "id": "48f9a435-fa2e-4418-af67-3d48362fb748",
   "metadata": {},
   "outputs": [],
   "source": [
    "print(\"Dequeue:\", my_node_queue.dequeue())\n",
    "print(\"Dequeue:\", my_node_queue.dequeue())\n",
    "print(\"Is the queue empty?\", my_node_queue.is_empty())"
   ]
  },
  {
   "cell_type": "markdown",
   "id": "7611e9de-0805-4c94-b41f-474e0ac76b4f",
   "metadata": {},
   "source": [
    "# LAB:10 COMPLETED BY NAME: MUHAMMAD REHAN.\n",
    "# REG NO: 23JZELE0522.\n",
    "# SECTI0N: A"
   ]
  }
 ],
 "metadata": {
  "kernelspec": {
   "display_name": "Python 3 (ipykernel)",
   "language": "python",
   "name": "python3"
  },
  "language_info": {
   "codemirror_mode": {
    "name": "ipython",
    "version": 3
   },
   "file_extension": ".py",
   "mimetype": "text/x-python",
   "name": "python",
   "nbconvert_exporter": "python",
   "pygments_lexer": "ipython3",
   "version": "3.12.4"
  }
 },
 "nbformat": 4,
 "nbformat_minor": 5
}
