{
 "cells": [
  {
   "cell_type": "markdown",
   "id": "5e007529-643c-4316-8dca-faac18468b27",
   "metadata": {},
   "source": [
    "## <p style=\"color:blue ; font-size:34px; font-family: Algerian ; text-align:center;\">EE-271 “OOP & Data Structures Lab”</p> "
   ]
  },
  {
   "cell_type": "markdown",
   "id": "1d369770-569c-4e35-98ab-99663cb308a0",
   "metadata": {},
   "source": [
    "## <p style=\"color:black; font-size:25px; font-family:Algerian; text-align:center;\">Lab 2: Basic Python Data types, Built in Function andFunction</p> "
   ]
  },
  {
   "cell_type": "markdown",
   "id": "0aea8a04-c031-4f1e-9a55-f90403ba7694",
   "metadata": {},
   "source": [
    "<p style=\"color:red; font-size:34px; font-family:Algerian; text-align:center;\">LAB WORK TASKS</p>"
   ]
  },
  {
   "cell_type": "markdown",
   "id": "ca641913-f347-4df7-bbb9-1d6ee656f16e",
   "metadata": {},
   "source": [
    "<p style=\"color:BLUE; font-size:25px; font-family:Algerian; text-align:left;\">Sting Formatting: </p>"
   ]
  },
  {
   "cell_type": "markdown",
   "id": "d62f4611-ca93-4b05-b296-df6e387643e9",
   "metadata": {},
   "source": [
    "<p style=\"color:blue; font-size:25px; font-family:Algerian; text-align:left;\"> 1. Observe The Output Of The Following If:"
   ]
  },
  {
   "cell_type": "code",
   "execution_count": 1,
   "id": "3d4c7101-fcb5-44a4-9423-8c4022444b95",
   "metadata": {},
   "outputs": [],
   "source": [
    "errno = 50159747054   \n",
    "name = 'Bob' "
   ]
  },
  {
   "cell_type": "code",
   "execution_count": 2,
   "id": "26e25c81-4feb-4e2c-948b-6ecb954a8ee0",
   "metadata": {},
   "outputs": [
    {
     "data": {
      "text/plain": [
       "'Hello, Bob'"
      ]
     },
     "execution_count": 2,
     "metadata": {},
     "output_type": "execute_result"
    }
   ],
   "source": [
    "'Hello, %s' % name "
   ]
  },
  {
   "cell_type": "code",
   "execution_count": 3,
   "id": "e4931733-5810-4774-8805-374696f71aa8",
   "metadata": {},
   "outputs": [
    {
     "data": {
      "text/plain": [
       "'Hey Bob, there is a 0xbadc0ffee error!'"
      ]
     },
     "execution_count": 3,
     "metadata": {},
     "output_type": "execute_result"
    }
   ],
   "source": [
    "'Hey %s, there is a 0x%x error!' % (name, errno) "
   ]
  },
  {
   "cell_type": "code",
   "execution_count": 4,
   "id": "29b9ef90-b541-46e4-b13b-a88205d5a483",
   "metadata": {},
   "outputs": [
    {
     "data": {
      "text/plain": [
       "'Hey Bob, there is a 0xbadc0ffee error!'"
      ]
     },
     "execution_count": 4,
     "metadata": {},
     "output_type": "execute_result"
    }
   ],
   "source": [
    "'Hey %(name)s, there is a 0x%(errno)x error!' % { \"name\": name, \"errno\": errno } "
   ]
  },
  {
   "cell_type": "markdown",
   "id": "4055d536-ffb4-4d9a-9890-f7428b6a9ad7",
   "metadata": {},
   "source": [
    "<p style=\"color:blue; font-size:25px; font-family: Algerian; text-align:left;\">2. Observe the output of: (Mostly used)</p>"
   ]
  },
  {
   "cell_type": "code",
   "execution_count": 5,
   "id": "085ebb1b-684e-4ec4-aaa6-26fdefa5021d",
   "metadata": {},
   "outputs": [
    {
     "data": {
      "text/plain": [
       "'Hello, Bob'"
      ]
     },
     "execution_count": 5,
     "metadata": {},
     "output_type": "execute_result"
    }
   ],
   "source": [
    "'Hello, {}'.format(name) "
   ]
  },
  {
   "cell_type": "markdown",
   "id": "4cab402d-d5ef-454e-af1d-fcbbf5e8d389",
   "metadata": {},
   "source": [
    "<p style=\"color:blue; font-size:25px; font-family: Algerian; text-align:left;\">3. Observe the output of:</p> "
   ]
  },
  {
   "cell_type": "code",
   "execution_count": 6,
   "id": "61907fce-8a20-47d2-a351-b4ac72cef627",
   "metadata": {},
   "outputs": [
    {
     "data": {
      "text/plain": [
       "'Hello, Bob!'"
      ]
     },
     "execution_count": 6,
     "metadata": {},
     "output_type": "execute_result"
    }
   ],
   "source": [
    " f'Hello, {name}!' \n"
   ]
  },
  {
   "cell_type": "markdown",
   "id": "4919d9fe-a955-4284-83f0-ed6aad621f10",
   "metadata": {},
   "source": [
    "<p style=\"color:blue; font-size:25px; font-family: Algerian; text-align:left;\">4. Observe the output of: </p>\n"
   ]
  },
  {
   "cell_type": "code",
   "execution_count": 7,
   "id": "9e265282-274b-4b6f-9aca-4f38acb4ef78",
   "metadata": {},
   "outputs": [
    {
     "data": {
      "text/plain": [
       "'Hey, Bob!'"
      ]
     },
     "execution_count": 7,
     "metadata": {},
     "output_type": "execute_result"
    }
   ],
   "source": [
    "from string import Template  \n",
    "t = Template('Hey, $name!')  \n",
    "t.substitute(name=name) "
   ]
  },
  {
   "cell_type": "code",
   "execution_count": 8,
   "id": "f75d9b25-4731-4662-8fc4-6269697f9bc0",
   "metadata": {},
   "outputs": [
    {
     "data": {
      "text/plain": [
       "'Hey Bob, there is a 0xbadc0ffee error!'"
      ]
     },
     "execution_count": 8,
     "metadata": {},
     "output_type": "execute_result"
    }
   ],
   "source": [
    "templ_string = 'Hey $name, there is a $error error!' \n",
    "Template(templ_string).substitute(name=name, error=hex(errno)) "
   ]
  },
  {
   "cell_type": "markdown",
   "id": "e87ab10b-abdb-4940-804e-445468011d81",
   "metadata": {},
   "source": [
    "<p style=\"color:blue; font-size:25px; font-family: Algerian; text-align:left;\">Built-in Function:</p> "
   ]
  },
  {
   "cell_type": "markdown",
   "id": "eead526d-affa-4a89-8ea9-abb2983eea8b",
   "metadata": {},
   "source": [
    "<p style=\"color:blue; font-size:25px; font-family: Algerian; text-align:left;\">Using len()</p>"
   ]
  },
  {
   "cell_type": "code",
   "execution_count": 9,
   "id": "24a88d5a-d473-4013-82c6-64c8388272fd",
   "metadata": {},
   "outputs": [
    {
     "name": "stdout",
     "output_type": "stream",
     "text": [
      "Lengths:\n",
      "List 1: 5\n",
      "List 2: 3\n",
      "List 3: 4\n",
      "String 1: 13\n",
      "String 2: 6\n"
     ]
    }
   ],
   "source": [
    "list1 = [1, 2, 3, 4, 5]\n",
    "list2 = ['a', 'b', 'c']\n",
    "list3 = [True, False, True, True]\n",
    "\n",
    "string1 = \"Hello, World!\"\n",
    "string2 = \"Python\"\n",
    "\n",
    "length_list1 = len(list1)\n",
    "length_list2 = len(list2)\n",
    "length_list3 = len(list3)\n",
    "length_string1 = len(string1)\n",
    "length_string2 = len(string2)\n",
    "\n",
    "print(\"Lengths:\")\n",
    "print(\"List 1:\", length_list1)  \n",
    "print(\"List 2:\", length_list2)  \n",
    "print(\"List 3:\", length_list3)  \n",
    "print(\"String 1:\", length_string1)  \n",
    "print(\"String 2:\", length_string2)  \n"
   ]
  },
  {
   "cell_type": "markdown",
   "id": "77303171-118a-48f8-9055-09bc0ad8b193",
   "metadata": {},
   "source": [
    "<p style=\"color:blue; font-size:25px; font-family: Algerian; text-align:left;\">Using .is_integer()</p>"
   ]
  },
  {
   "cell_type": "code",
   "execution_count": 10,
   "id": "1686e7fd-dad9-41db-a8d6-0a7a3a9cd333",
   "metadata": {},
   "outputs": [
    {
     "name": "stdout",
     "output_type": "stream",
     "text": [
      "Is Integer:\n",
      "Num 1: True\n",
      "Num 2: False\n",
      "Num 3: True\n"
     ]
    }
   ],
   "source": [
    "num1 = 3.0\n",
    "num2 = 2.5\n",
    "num3 = 7.0\n",
    "\n",
    "is_integer1 = num1.is_integer()  \n",
    "is_integer2 = num2.is_integer()  \n",
    "is_integer3 = num3.is_integer()  \n",
    "\n",
    "print(\"Is Integer:\")\n",
    "print(\"Num 1:\", is_integer1)  \n",
    "print(\"Num 2:\", is_integer2)  \n",
    "print(\"Num 3:\", is_integer3)  \n"
   ]
  },
  {
   "cell_type": "markdown",
   "id": "c1659711-dd2d-43b9-8882-fa03a96a25c0",
   "metadata": {},
   "source": [
    "<p style=\"color:blue; font-size:25px; font-family: Algerian; text-align:left;\"> Using .conjugate()</p>"
   ]
  },
  {
   "cell_type": "code",
   "execution_count": 2,
   "id": "8efd3c33-9c2c-4b6a-918d-f028c532f685",
   "metadata": {},
   "outputs": [
    {
     "name": "stdout",
     "output_type": "stream",
     "text": [
      "Conjugates:\n",
      "Complex Num 1 Conjugate: (3-4j)\n",
      "Complex Num 2 Conjugate: (1+1j)\n",
      "Complex Num 3 Conjugate: (2-0j)\n"
     ]
    }
   ],
   "source": [
    "complex_num1 = 3 + 4j\n",
    "complex_num2 = 1 - 1j\n",
    "complex_num3 = 2 + 0j\n",
    "\n",
    "conjugate1 = complex_num1.conjugate()\n",
    "conjugate2 = complex_num2.conjugate()  \n",
    "conjugate3 = complex_num3.conjugate()  \n",
    "print(\"Conjugates:\")\n",
    "print(\"Complex Num 1 Conjugate:\", conjugate1)  \n",
    "print(\"Complex Num 2 Conjugate:\", conjugate2)  \n",
    "print(\"Complex Num 3 Conjugate:\", conjugate3) \n"
   ]
  },
  {
   "cell_type": "markdown",
   "id": "4bfc6bf0-65cf-4193-9c4d-7346dac06537",
   "metadata": {},
   "source": [
    "<p style=\"color:blue; font-size:25px; font-family: Algerian; text-align:left;\">(i.)Function:</p> "
   ]
  },
  {
   "cell_type": "code",
   "execution_count": 3,
   "id": "0f2f4110-cfeb-40c8-ae47-43786f71c58b",
   "metadata": {},
   "outputs": [],
   "source": [
    "def print_student_info(name, reg_number):\n",
    " print(f\"Student Name: {name}, Registration Number: {reg_number}\")"
   ]
  },
  {
   "cell_type": "markdown",
   "id": "9264ed0b-37ca-46ca-8b10-26bdc0049839",
   "metadata": {},
   "source": [
    "<p style=\"color:blue; font-size:25px; font-family: Algerian; text-align:left;\">a. Positional Arguments</p>"
   ]
  },
  {
   "cell_type": "code",
   "execution_count": 5,
   "id": "66915db7-58de-4bc7-89f6-e4930fead91c",
   "metadata": {},
   "outputs": [
    {
     "name": "stdout",
     "output_type": "stream",
     "text": [
      "Student Name: rehan, Registration Number: 23JZELE0522\n"
     ]
    }
   ],
   "source": [
    "print_student_info('rehan', '23JZELE0522')\n"
   ]
  },
  {
   "cell_type": "markdown",
   "id": "d49d9494-ce0a-4032-995a-39227cee8d2e",
   "metadata": {},
   "source": [
    "<p style=\"color:blue; font-size:25px; font-family: Algerian; text-align:left;\">b. Keyword Arguments</p>"
   ]
  },
  {
   "cell_type": "code",
   "execution_count": 6,
   "id": "0b9a49dc-6867-411e-96ef-b7e5c63fadac",
   "metadata": {},
   "outputs": [
    {
     "name": "stdout",
     "output_type": "stream",
     "text": [
      "Student Name: rehan, Registration Number: 23JZELE0522\n"
     ]
    }
   ],
   "source": [
    "print_student_info(name='rehan', reg_number='23JZELE0522')"
   ]
  },
  {
   "cell_type": "markdown",
   "id": "6f13d087-cb3c-4efd-a8b5-d6450093b9c5",
   "metadata": {},
   "source": [
    "<p style=\"color:blue; font-size:25px; font-family: Algerian; text-align:left;\">c. Default Arguments<p>"
   ]
  },
  {
   "cell_type": "code",
   "execution_count": 8,
   "id": "e65f5051-6649-4dec-9e3a-9d59875e4ac9",
   "metadata": {},
   "outputs": [
    {
     "name": "stdout",
     "output_type": "stream",
     "text": [
      "Student Name: Unknown, Registration Number: Not Registered\n"
     ]
    }
   ],
   "source": [
    "def print_student_info_with_defaults(name='Unknown', reg_number='Not Registered'):\n",
    "    print(f\"Student Name: {name}, Registration Number: {reg_number}\")\n",
    "\n",
    "print_student_info_with_defaults()\n"
   ]
  },
  {
   "cell_type": "markdown",
   "id": "cdd08e44-dc1d-4509-af55-f16c21bd4d29",
   "metadata": {},
   "source": [
    "<p style=\"color:blue; font-size:25px; font-family: Algerian; text-align:left;\">d. Pass Arguments from One Style to Another</p>"
   ]
  },
  {
   "cell_type": "code",
   "execution_count": 10,
   "id": "9e5bcae0-79b0-425f-a728-348681f3d09e",
   "metadata": {},
   "outputs": [
    {
     "name": "stdout",
     "output_type": "stream",
     "text": [
      "Student Name: rehan, Registration Number: 23JZELE0522\n",
      "Student Name: breet lee, Registration Number: REG78654\n"
     ]
    }
   ],
   "source": [
    "print_student_info_with_defaults('rehan', '23JZELE0522')\n",
    "\n",
    "print_student_info_with_defaults(name='breet lee', reg_number='REG78654')\n"
   ]
  },
  {
   "cell_type": "markdown",
   "id": "00c626fc-b96d-4bcc-9dab-5d708c8a779b",
   "metadata": {},
   "source": [
    "<p style=\"color:blue; font-size:25px; font-family: Algerian; text-align:left;\">e. Passing Fewer Arguments and Checking Error Messages</p>"
   ]
  },
  {
   "cell_type": "code",
   "execution_count": 13,
   "id": "ad064b38-da03-4b2d-8eda-dbd14eac9b72",
   "metadata": {},
   "outputs": [
    {
     "name": "stdout",
     "output_type": "stream",
     "text": [
      "Error message: print_student_info() missing 1 required positional argument: 'reg_number'\n"
     ]
    }
   ],
   "source": [
    "try:\n",
    "    print_student_info('rehan') \n",
    "except TypeError as e:\n",
    "    print(\"Error message:\", e)\n"
   ]
  },
  {
   "cell_type": "markdown",
   "id": "aeff4238-2d26-4dd8-a942-0ff094aae8df",
   "metadata": {},
   "source": [
    "<p style=\"color:blue; font-size:25px; font-family: Algerian; text-align:left;\">f. Verify That Positional Argument Follows Keyword Argument</p>"
   ]
  },
  {
   "cell_type": "code",
   "execution_count": 14,
   "id": "5c8e5c26-4ece-4c0b-8340-a178bb1e96c9",
   "metadata": {},
   "outputs": [
    {
     "ename": "SyntaxError",
     "evalue": "positional argument follows keyword argument (1617884918.py, line 2)",
     "output_type": "error",
     "traceback": [
      "\u001b[1;36m  Cell \u001b[1;32mIn[14], line 2\u001b[1;36m\u001b[0m\n\u001b[1;33m    print_student_info(name='rehan', '0522')\u001b[0m\n\u001b[1;37m                                           ^\u001b[0m\n\u001b[1;31mSyntaxError\u001b[0m\u001b[1;31m:\u001b[0m positional argument follows keyword argument\n"
     ]
    }
   ],
   "source": [
    "try:\n",
    "    print_student_info(name='rehan', '0522') \n",
    "except SyntaxError as e:\n",
    "    print(\"Syntax Error message:\", e)\n"
   ]
  },
  {
   "cell_type": "markdown",
   "id": "dd0f5fc7-f99d-4236-ad60-bbd679d7d339",
   "metadata": {},
   "source": [
    "<p style=\"color:blue; font-size:25px; font-family: Algerian; text-align:left;\">(ii.) Function Definition</p>"
   ]
  },
  {
   "cell_type": "code",
   "execution_count": 9,
   "id": "a55f5680-e0e0-43e1-a5ea-d4526316c14f",
   "metadata": {},
   "outputs": [],
   "source": [
    "def calculate_voltage(current, resistance):\n",
    "    return current * resistance\n"
   ]
  },
  {
   "cell_type": "markdown",
   "id": "8faae143-96bc-42dc-99e9-83840459a7e8",
   "metadata": {},
   "source": [
    "<p style=\"color:blue; font-size:25px; font-family: Algerian; text-align:left;\">a. Positional Arguments</p>"
   ]
  },
  {
   "cell_type": "code",
   "execution_count": 10,
   "id": "8532b492-2a73-4fcf-a929-9b79aa280033",
   "metadata": {},
   "outputs": [
    {
     "name": "stdout",
     "output_type": "stream",
     "text": [
      "Voltage (Positional): 40\n"
     ]
    }
   ],
   "source": [
    "voltage_positional = calculate_voltage(5, 8)\n",
    "print(\"Voltage (Positional):\", voltage_positional)  \n"
   ]
  },
  {
   "cell_type": "markdown",
   "id": "1b75761f-c947-4d92-99ed-c710e634b95d",
   "metadata": {},
   "source": [
    "<p style=\"color:blue; font-size:25px; font-family: Algerian; text-align:left;\">b. Keyword Arguments</p>\n"
   ]
  },
  {
   "cell_type": "code",
   "execution_count": 11,
   "id": "c1dd5824-9941-43c1-bbde-b60efa62696e",
   "metadata": {},
   "outputs": [
    {
     "name": "stdout",
     "output_type": "stream",
     "text": [
      "Voltage (Keyword): 40\n"
     ]
    }
   ],
   "source": [
    "voltage_keyword = calculate_voltage(current=5, resistance=8)  \n",
    "print(\"Voltage (Keyword):\", voltage_keyword)  \n"
   ]
  },
  {
   "cell_type": "markdown",
   "id": "06a27674-0235-44ca-ae7d-d17d2e626280",
   "metadata": {},
   "source": [
    "<p style=\"color:blue; font-size:25px; font-family: Algerian; text-align:left;\">c. Default Arguments</p>"
   ]
  },
  {
   "cell_type": "code",
   "execution_count": null,
   "id": "b315bbaa-7010-4773-996e-2c8fa32ee4db",
   "metadata": {},
   "outputs": [],
   "source": [
    "def calculate_voltage_with_defaults(current=1, resistance=1):\n",
    "    return current * resistance\n",
    "\n",
    "voltage_default = calculate_voltage_with_defaults()\n",
    "print(\"Voltage (Default):\", voltage_default)  "
   ]
  },
  {
   "cell_type": "markdown",
   "id": "2d605a6e-3639-416d-849c-0552eded4aa0",
   "metadata": {},
   "source": [
    "<p style=\"color:blue; font-size:25px; font-family: Algerian; text-align:left;\">d. Pass Arguments from One Style to Another</p>"
   ]
  },
  {
   "cell_type": "code",
   "execution_count": null,
   "id": "4507acb0-7488-4fdf-a200-780862a112f7",
   "metadata": {},
   "outputs": [],
   "source": [
    "voltage_from_positional = calculate_voltage_with_defaults(4, 10)\n",
    "print(\"Voltage from Positional to Default:\", voltage_from_positional)  \n",
    "\n",
    "voltage_from_keyword = calculate_voltage_with_defaults(current=5, resistance=10)\n",
    "print(\"Voltage from Keyword to Default:\", voltage_from_keyword)  \n"
   ]
  },
  {
   "cell_type": "markdown",
   "id": "fb49a8e4-1d86-4134-b24c-fc8f24493cf0",
   "metadata": {},
   "source": [
    "<p style=\"color:blue; font-size:25px; font-family: Algerian; text-align:left;\">e. Passing Fewer Arguments and Checking Error Messages</p>"
   ]
  },
  {
   "cell_type": "code",
   "execution_count": null,
   "id": "99c592b7-941f-48ee-bd1e-6d20f032c91d",
   "metadata": {},
   "outputs": [],
   "source": [
    "try:\n",
    "    voltage_error = calculate_voltage(5) \n",
    "except TypeError as e:\n",
    "    print(\"Error message:\", e)  \n"
   ]
  },
  {
   "cell_type": "markdown",
   "id": "b6b7bc28-3dab-4f6b-bfa7-bce5b3c7df16",
   "metadata": {},
   "source": [
    "<p style=\"color:blue; font-size:25px; font-family: Algerian; text-align:left;\">f. Verify That Positional Argument Follows Keyword Argument</p>"
   ]
  },
  {
   "cell_type": "code",
   "execution_count": null,
   "id": "5ce6d010-6ce0-4053-bc89-7daed9070a71",
   "metadata": {},
   "outputs": [],
   "source": [
    "try:\n",
    "    voltage_invalid = calculate_voltage(current=5, 10)\n",
    "except SyntaxError as e:\n",
    "    print(\"Syntax Error message:\", e)  \n"
   ]
  },
  {
   "cell_type": "markdown",
   "id": "ed308f84-7c68-4498-b81b-24ec07af62a0",
   "metadata": {},
   "source": [
    "<p style=\"color:blue; font-size:25px; font-family: Algerian; text-align:left;\">(iii.) Function Definition</p>\r\n"
   ]
  },
  {
   "cell_type": "code",
   "execution_count": null,
   "id": "08fdb2fd-4dfc-4069-b7ba-fac78e7f3182",
   "metadata": {},
   "outputs": [],
   "source": [
    "def charge_from_solar(soc: float) -> None:\n",
    "    if soc < 20:\n",
    "        print(\"Charging...\")\n",
    "    elif soc > 90:\n",
    "        retur\n",
    "    else:\n",
    "        print(f\"The battery will be charged. There is {soc}% charge in the battery.\")\n"
   ]
  },
  {
   "cell_type": "code",
   "execution_count": null,
   "id": "afa3fb9b-67d0-460a-8553-27a61876ebbf",
   "metadata": {},
   "outputs": [],
   "source": [
    "print(charge_from_solar.__doc__)"
   ]
  },
  {
   "cell_type": "code",
   "execution_count": null,
   "id": "5ac35496-8a05-4517-ad32-b6f77d90f344",
   "metadata": {},
   "outputs": [],
   "source": [
    "charge_from_solar(54)  \n",
    "charge_from_solar(18)  \n",
    "charge_from_solar(60)  \n"
   ]
  },
  {
   "cell_type": "markdown",
   "id": "a644b55a-fa33-49d1-85c0-cac920c3615c",
   "metadata": {},
   "source": [
    "<p style=\"color:blue; font-size:25px; font-family: Algerian; text-align:left;\">(iv.) Function Definition</p>"
   ]
  },
  {
   "cell_type": "code",
   "execution_count": 19,
   "id": "d2e2693a-ba6d-4141-a7c8-80ad96b57c16",
   "metadata": {},
   "outputs": [],
   "source": [
    "from typing import List, Tuple, Dict\n",
    "\n",
    "def resistance() -> List[float]:\n",
    "    \"\"\"Return a list of five resistances.\"\"\"\n",
    "    return [5.0, 10.0, 20.0, 30.0, 40.0]\n",
    "\n",
    "def voltage() -> List[float]:\n",
    "    \"\"\"Return a list of voltages across each of the resistors.\"\"\"\n",
    "    return [5.0, 10.0, 15.0, 20.0, 25.0]\n",
    "\n",
    "def current_as_tuple(resistances: List[float], voltages: List[float]) -> Tuple[float, ...]:\n",
    "    \"\"\"Calculate current as a tuple.\"\"\"\n",
    "    return tuple(v / r for v, r in zip(voltages, resistances))\n",
    "\n",
    "def current_as_dict(resistances: List[float], voltages: List[float]) -> Dict[str, float]:\n",
    "    \"\"\"Calculate current as a dictionary.\"\"\"\n",
    "    return {f'current_{i+1}': v / r for i, (v, r) in enumerate(zip(voltages, resistances))}\n",
    "\n",
    "def main():\n",
    "    resistances_list = resistance()\n",
    "    voltages_list = voltage()\n",
    "    currents_tuple = current_as_tuple(resistances_list, voltages_list)\n",
    "    currents_dict = current_as_dict(resistances_list, voltages_list)\n",
    "\n",
    "    print(\"Resistances (Ohms):\", resistances_list)\n",
    "    print(\"Voltages (Volts):\", voltages_list)\n",
    "    print(\"Currents (Tuple):\", currents_tuple)\n",
    "    print(\"Currents (Dictionary):\", currents_dict)\n",
    "    print(resistance.__doc__)\n",
    "    "
   ]
  },
  {
   "cell_type": "code",
   "execution_count": 20,
   "id": "233871de-aad9-4447-a69e-e7f5535e2cdf",
   "metadata": {},
   "outputs": [
    {
     "name": "stdout",
     "output_type": "stream",
     "text": [
      "Resistances (Ohms): [5.0, 10.0, 20.0, 30.0, 40.0]\n",
      "Voltages (Volts): [5.0, 10.0, 15.0, 20.0, 25.0]\n",
      "Currents (Tuple): (1.0, 1.0, 0.75, 0.6666666666666666, 0.625)\n",
      "Currents (Dictionary): {'current_1': 1.0, 'current_2': 1.0, 'current_3': 0.75, 'current_4': 0.6666666666666666, 'current_5': 0.625}\n",
      "Return a list of five resistances.\n"
     ]
    }
   ],
   "source": [
    "    main()"
   ]
  },
  {
   "cell_type": "markdown",
   "id": "c1da5da5-4cef-4e6b-8603-9585c68a9eb7",
   "metadata": {},
   "source": [
    "<p style=\"color:blue; font-size:25px; font-family: Algerian; text-align:left;\">V</p>"
   ]
  },
  {
   "cell_type": "code",
   "execution_count": null,
   "id": "24c256fe-9b17-4087-9b93-28aec83ffe26",
   "metadata": {},
   "outputs": [],
   "source": [
    "from typing import Union, List, Tuple\n",
    "\n",
    "def series(resistors: Union[List[float], Tuple[float]]) -> float:\n",
    "    \"\"\"\n",
    "    Calculate the net resistance of resistors in series.\n",
    "    \"\"\"\n",
    "    return sum(resistors)\n",
    "\n",
    "print(series.__doc__)\n",
    "\n",
    "print(series.__annotations__)\n",
    "\n",
    "if __name__ == \"__main__\":\n",
    "    result = series([10, 20, 30])\n",
    "    print(f\"Net resistance: {result} ohms\")\n"
   ]
  },
  {
   "cell_type": "markdown",
   "id": "b5b827ff-13f0-47b0-8e9b-9737e7f9ef1e",
   "metadata": {},
   "source": [
    "<p style=\"color:blue; font-size:25px; font-family: Algerian; text-align:left;\">Vi</p>"
   ]
  },
  {
   "cell_type": "code",
   "execution_count": null,
   "id": "d7ac2568-5afc-4602-a826-f41ed564737e",
   "metadata": {},
   "outputs": [],
   "source": [
    "from typing import Union, List, Tuple\n",
    "def parallel(resistors: Union[List[float], Tuple[float]]) -> float:\n",
    "    \"\"\"\n",
    "    Calculate the net resistance of resistors in parallel.\n",
    "    \"\"\"\n",
    "    if not resistors:\n",
    "        return float('inf')\n",
    "    reciprocal_sum = sum(1 / r for r in resistors if r > 0)\n",
    "    return 1 / reciprocal_sum if reciprocal_sum != 0 else float('inf')\n",
    "    \n",
    "print(parallel.__doc__)\n",
    "\n",
    "print(parallel.__annotations__)\n",
    "\n",
    "if __name__ == \"__main__\":\n",
    "    result = parallel([10, 20, 30])\n",
    "    print(f\"Net resistance: {result} ohms\")\n"
   ]
  },
  {
   "cell_type": "markdown",
   "id": "c5a40339-1f98-4731-80e2-ffbe40953ec7",
   "metadata": {},
   "source": [
    "<p style=\"color:blue; font-size:25px; font-family: Algerian; text-align:left;\">Vii</p>"
   ]
  },
  {
   "cell_type": "code",
   "execution_count": null,
   "id": "ac655fb6-0e6b-47d7-a41e-b9d2733c4e43",
   "metadata": {},
   "outputs": [],
   "source": [
    "def series(*resistors: float) -> float:\n",
    "    \"\"\"\n",
    "    Calculate the net resistance of resistors in series.\n",
    "    \"\"\"\n",
    "    return sum(resistors)\n",
    "\n",
    "print(series.__doc__)\n",
    "\n",
    "print(series.__annotations__)\n",
    "\n",
    "if __name__ == \"__main__\":\n",
    "    result = series(10, 20, 30)\n",
    "    print(f\"Net resistance: {result} ohms\")\n"
   ]
  },
  {
   "cell_type": "markdown",
   "id": "1d5c2d87-f698-4b99-bc0f-b335c051b2b9",
   "metadata": {},
   "source": [
    "<p style=\"color:blue; font-size:25px; font-family: Algerian; text-align:left;\">Viii</p>"
   ]
  },
  {
   "cell_type": "code",
   "execution_count": null,
   "id": "5791b939-3736-45e3-bb9e-7c2ef204fd81",
   "metadata": {},
   "outputs": [],
   "source": [
    "def parallel(*resistors: float) -> float:\n",
    "    \"\"\"\n",
    "    Calculate the net resistance of resistors in parallel.\n",
    "    \"\"\"\n",
    "    if not resistors:\n",
    "        return float('inf')\n",
    "\n",
    "    reciprocal_sum = sum(1 / r for r in resistors if r > 0)\n",
    "    return 1 / reciprocal_sum if reciprocal_sum != 0 else float('inf')\n",
    "\n",
    "print(parallel.__doc__)\n",
    "\n",
    "print(parallel.__annotations__)\n",
    "\n",
    "if __name__ == \"__main__\":\n",
    "    result = parallel(10, 20, 30)\n",
    "    print(f\"Net resistance: {result} ohms\")\n"
   ]
  },
  {
   "cell_type": "markdown",
   "id": "77c6442a-7f3c-463e-8c14-b64ab2fb3cc6",
   "metadata": {},
   "source": [
    "<p style=\"color:blue; font-size:25px; font-family: Algerian; text-align:left;\">ix</p>"
   ]
  },
  {
   "cell_type": "code",
   "execution_count": null,
   "id": "a896270a-bacf-4eb1-95d0-b45c82f6028b",
   "metadata": {},
   "outputs": [],
   "source": [
    "from typing import Union, List, Tuple\n",
    "\n",
    "def display_inverter_data(data: Union[List[float], Tuple[float]]) -> None:\n",
    "    \"\"\"\n",
    "    Print battery SOC, solar generation, and market price in a formatted manner.\n",
    "    \"\"\"\n",
    "    soc, solar_generation, market_price = data\n",
    "    \n",
    "    print(f\"Battery SOC: {soc}%\")\n",
    "    print(f\"Solar Generation: {solar_generation} Kw\")\n",
    "    print(f\"Market Price: ₹{market_price} per unit\")\n",
    "\n",
    "print(display_inverter_data.__doc__)\n",
    "\n",
    "print(display_inverter_data.__annotations__)\n",
    "\n",
    "if __name__ == \"__main__\":\n",
    "    display_inverter_data((60, 2, 60))\n"
   ]
  },
  {
   "cell_type": "markdown",
   "id": "c677ef61-4533-4328-8940-9ba3a9f90ff1",
   "metadata": {},
   "source": [
    "<p style=\"color:blue; font-size:25px; font-family: Algerian; text-align:left;\">X</p>"
   ]
  },
  {
   "cell_type": "code",
   "execution_count": null,
   "id": "a1910ddf-6952-43f9-b8dc-f0ca4afb91a7",
   "metadata": {},
   "outputs": [],
   "source": [
    "from typing import Dict\n",
    "\n",
    "def display_inverter_data(data: Dict[str, float]) -> None:\n",
    "    \"\"\"\n",
    "    Print battery SOC, solar generation, and market price in a formatted manner.\n",
    "    \"\"\"\n",
    "    soc = data['SOC']\n",
    "    solar_generation = data['solar generation']\n",
    "    market_price = data['price']\n",
    "    \n",
    "    print(f\"Battery SOC: {soc}%\")\n",
    "    print(f\"Solar Generation: {solar_generation} Kw\")\n",
    "    print(f\"Market Price: ₹{market_price} per unit\")\n",
    "\n",
    "print(display_inverter_data.__doc__)\n",
    "\n",
    "print(display_inverter_data.__annotations__)\n",
    "\n",
    "if __name__ == \"__main__\":\n",
    "    display_inverter_data({'SOC': 60, 'solar generation': 2, 'price': 60})\n"
   ]
  },
  {
   "cell_type": "markdown",
   "id": "34022b75-1d0c-4fec-8ab0-f0ffafecc6fe",
   "metadata": {},
   "source": [
    "<p style=\"color:blue; font-size:25px; font-family: Algerian; text-align:left;\">Xi</p"
   ]
  },
  {
   "cell_type": "code",
   "execution_count": null,
   "id": "93c70171-b1c4-4418-8e0f-76056e1c660f",
   "metadata": {},
   "outputs": [],
   "source": [
    "from typing import Dict\n",
    "\n",
    "def solar(**kwargs: float) -> None:\n",
    "    \"\"\"\n",
    "    Print battery SOC, solar generation, and market price in a formatted manner.\n",
    "    \"\"\"\n",
    "    soc = kwargs.get('SOC')\n",
    "    solar_generation = kwargs.get('solar_generation')\n",
    "    market_price = kwargs.get('price')\n",
    "    \n",
    "    print(f\"Battery SOC: {soc}%\")\n",
    "    print(f\"Solar Generation: {solar_generation} Kw\")\n",
    "    print(f\"Market Price: ₹{market_price} per unit\")\n",
    "\n",
    "print(solar.__doc__)\n",
    "\n",
    "print(solar.__annotations__)\n",
    "\n",
    "if __name__ == \"__main__\":\n",
    "    solar(SOC=60, solar_generation=2, price=60)\n"
   ]
  },
  {
   "cell_type": "markdown",
   "id": "89035a5d-3268-4e1b-8a0d-3bad9e923a28",
   "metadata": {},
   "source": [
    "<p style=\"color:blue; font-size:25px; font-family: Algerian; text-align:left;\">(xii) Understand the functions given below by run, modify and also design different scenarios.</p> "
   ]
  },
  {
   "cell_type": "code",
   "execution_count": null,
   "id": "97fcb000-3330-49ca-be3c-c5b9e4f22175",
   "metadata": {},
   "outputs": [],
   "source": [
    "def f(a, b, *args, **kwargs):\n",
    "    print(f'a = {a}')\n",
    "    print(f'b = {b}')\n",
    "    print(f'args = {args}')\n",
    "    print(f'kwargs = \n",
    "\n",
    "f(1, 2, 'foo', 'bar', 'baz', 'qux', x=100, y=200, z=300)\n"
   ]
  },
  {
   "cell_type": "markdown",
   "id": "6c014eef-f7b4-47dd-922d-b93b0f872560",
   "metadata": {},
   "source": [
    "<p style=\"color:blue; font-size:25px; font-family: Algerian; text-align:left;\">Modified Function:</p>"
   ]
  },
  {
   "cell_type": "markdown",
   "id": "95211cd2-6b53-4d4d-9aee-92842257285d",
   "metadata": {},
   "source": [
    "<p style=\"color:blue; font-size:25px; font-family: Algerian; text-align:left;\">i</p>"
   ]
  },
  {
   "cell_type": "code",
   "execution_count": null,
   "id": "8fecafb1-f359-45b0-862a-d52851cb6474",
   "metadata": {},
   "outputs": [],
   "source": [
    "f(1, 2)"
   ]
  },
  {
   "cell_type": "code",
   "execution_count": null,
   "id": "42400700-7889-4b57-b003-075309dbc242",
   "metadata": {},
   "outputs": [],
   "source": [
    "f(1, 2, x=100, y=200, z=300)"
   ]
  },
  {
   "cell_type": "code",
   "execution_count": null,
   "id": "2c2fb131-3e16-42a4-a8cf-1283092b12a6",
   "metadata": {},
   "outputs": [],
   "source": [
    "f(1, 2,'foo','bar')"
   ]
  },
  {
   "cell_type": "markdown",
   "id": "618d5988-0502-4a71-8521-5141338dd02a",
   "metadata": {},
   "source": [
    "<p style=\"color:blue; font-size:25px; font-family: Algerian; text-align:left;\">ii</p>"
   ]
  },
  {
   "cell_type": "code",
   "execution_count": null,
   "id": "d6980b86-98f5-41e0-a29b-f8130cd7cd36",
   "metadata": {},
   "outputs": [],
   "source": [
    "def f(*args): \n",
    " for i in args: \n",
    "   print(i) \n",
    "a = [1, 2, 3] \n",
    "t = (4, 5, 6) \n",
    "s = {7, 8, 9}\n"
   ]
  },
  {
   "cell_type": "code",
   "execution_count": null,
   "id": "92a5106b-70b5-4e02-a7b7-2a85df90e20b",
   "metadata": {},
   "outputs": [],
   "source": [
    "f(*a, *t, *s) "
   ]
  },
  {
   "cell_type": "code",
   "execution_count": null,
   "id": "8f0057c0-8d5d-4c29-b6af-ce77c9d8134c",
   "metadata": {},
   "outputs": [],
   "source": [
    "f(*a, *t, \"Hellow\")\n"
   ]
  },
  {
   "cell_type": "code",
   "execution_count": null,
   "id": "7af3eeb2-518e-432d-b369-b786067f5ae1",
   "metadata": {},
   "outputs": [],
   "source": [
    "d = {'x': 10,'y':20}\n",
    "f(*a, *t, *s, *d)\n"
   ]
  },
  {
   "cell_type": "code",
   "execution_count": null,
   "id": "d1d63f08-8488-4a5d-9ca8-ae3d6e4a0b0e",
   "metadata": {},
   "outputs": [],
   "source": [
    "r = range(10,13)\n",
    "f(*a, *t, *s, *r)"
   ]
  },
  {
   "cell_type": "code",
   "execution_count": null,
   "id": "36822604-206d-4cd3-a857-69918bdd27d9",
   "metadata": {},
   "outputs": [],
   "source": [
    "f(10, *a, \"world\",[11, 12], 20, *t, \"hellow\")"
   ]
  },
  {
   "cell_type": "markdown",
   "id": "94ad7264-e864-4d1c-b3a7-7c80e0179105",
   "metadata": {},
   "source": [
    "<p style=\"color:blue; font-size:25px; font-family: Algerian; text-align:left;\">iii</p>"
   ]
  },
  {
   "cell_type": "code",
   "execution_count": null,
   "id": "3f39112f-c213-4ee6-947d-b3bf1bab7bdb",
   "metadata": {},
   "outputs": [],
   "source": [
    "def f(**kwargs): \n",
    "    for k, v in kwargs.items(): \n",
    "            print(k, '->', v) \n",
    " \n",
    " \n",
    "d1 = {'a': 1, 'b': 2} \n",
    "d2 = {'x': 3, 'y': 4} \n",
    " \n",
    "f(**d1, **d2)"
   ]
  },
  {
   "cell_type": "code",
   "execution_count": null,
   "id": "c4dba1e4-838b-46a4-a586-c1aa0171c08d",
   "metadata": {},
   "outputs": [],
   "source": [
    "d3 = {'m': 5, 'n': 6,}   \n",
    "f(**d1, **d2, **d3)"
   ]
  },
  {
   "cell_type": "code",
   "execution_count": null,
   "id": "07ebd8d1-714f-4c74-9d43-6c944f23305a",
   "metadata": {},
   "outputs": [],
   "source": [
    "f(**d1, **d2, **d3)"
   ]
  },
  {
   "cell_type": "code",
   "execution_count": null,
   "id": "e71cebc1-01e4-4e13-9b0c-b2f37575c0a0",
   "metadata": {},
   "outputs": [],
   "source": [
    "f(z=7, **d1, **d2, **d3)"
   ]
  },
  {
   "cell_type": "markdown",
   "id": "ac845303-0006-46ac-8f4a-26384b029710",
   "metadata": {},
   "source": [
    "<p style=\"color:blue; font-size:25px; font-family: Algerian; text-align:left;\">iv</p>"
   ]
  },
  {
   "cell_type": "code",
   "execution_count": null,
   "id": "220633f6-ec6b-46e5-9f5c-46898bf28c7a",
   "metadata": {},
   "outputs": [],
   "source": [
    "def f(*args): \n",
    "    for i in args: \n",
    "            print(i) \n",
    " \n",
    " \n",
    "f(*[1, 2, 3], *[4, 5, 6]) "
   ]
  },
  {
   "cell_type": "code",
   "execution_count": null,
   "id": "761bc0f3-fd14-4ce2-8bc5-25861789fef6",
   "metadata": {},
   "outputs": [],
   "source": [
    "f([[1, 2, 3], [4, 5, 6]]) "
   ]
  },
  {
   "cell_type": "code",
   "execution_count": null,
   "id": "5ec321e6-bf19-4166-a0dc-a3050395bb70",
   "metadata": {},
   "outputs": [],
   "source": [
    "def f(*args): \n",
    "    for i in args: \n",
    "            print(1) \n",
    "f(*[1, 2, 3], *[4, 5, 6]) "
   ]
  },
  {
   "cell_type": "markdown",
   "id": "816ccc40-0039-4e8e-899b-e559e7cdf3c9",
   "metadata": {},
   "source": [
    "<p style=\"color:blue; font-size:25px; font-family: Algerian; text-align:left;\">v</p>"
   ]
  },
  {
   "cell_type": "code",
   "execution_count": null,
   "id": "e6e5c9cc-b5c3-4984-b2c1-5ea01a653316",
   "metadata": {},
   "outputs": [],
   "source": [
    "def f(**kwargs): \n",
    "    for k, v in kwargs.items(): \n",
    "            print(k, '->', v) \n",
    " \n",
    " \n",
    "f(**{'a': 1, 'b': 2}, **{'x': 3, 'y': 4}) "
   ]
  },
  {
   "cell_type": "code",
   "execution_count": null,
   "id": "d1a9d2f1-25fe-49bf-ab26-aa544066a34f",
   "metadata": {},
   "outputs": [],
   "source": [
    "def f(**kwargs): \n",
    "    for k, v in kwargs.items(): \n",
    "            print(k, '->', v) \n",
    "f(z=5,**{'a': 1, 'b': 2}, **{'x': 3, 'y': 4}) "
   ]
  },
  {
   "cell_type": "code",
   "execution_count": null,
   "id": "a5b868fd-d965-42a3-b38d-0883f7dd998f",
   "metadata": {},
   "outputs": [],
   "source": [
    "f(**{'Name':'Shehwar','age': 18,'Hobbies':['reading', 'cricket']}) "
   ]
  },
  {
   "cell_type": "markdown",
   "id": "868c4d5a-7dd7-45cb-b73c-c2da6aedf2ef",
   "metadata": {},
   "source": [
    "<p style=\"color:blue; font-size:25px; font-family: Algerian; text-align:left;\">vi</p>"
   ]
  },
  {
   "cell_type": "code",
   "execution_count": null,
   "id": "0d0c5a01-bbfd-4ed3-bae6-cd02b25a24fe",
   "metadata": {},
   "outputs": [],
   "source": [
    "def f(a: int, b: str) -> float: \n",
    "    print(a, b) \n",
    "    return(3.5) \n",
    "f(1, 'foo') \n",
    "f.__annotations__ "
   ]
  },
  {
   "cell_type": "code",
   "execution_count": null,
   "id": "3f41cd2d-068f-4d43-a5a6-6689b68b0780",
   "metadata": {},
   "outputs": [],
   "source": [
    "def f(a: int, b: str) -> float: \n",
    "    print(a, b)\n",
    "    return float(a)+ 2.5\n",
    "f(3,'bar')"
   ]
  },
  {
   "cell_type": "code",
   "execution_count": null,
   "id": "9249962b-7de1-4a49-806c-f8d0ff804e70",
   "metadata": {},
   "outputs": [],
   "source": [
    "def f(a: int, b: str) -> float: \n",
    "    print(a, b)\n",
    "    if a > 10:\n",
    "      return 7.5\n",
    "    else:\n",
    "      return 3.5  "
   ]
  },
  {
   "cell_type": "code",
   "execution_count": null,
   "id": "08294a9b-7322-41ee-afe7-9ad39a13b78f",
   "metadata": {},
   "outputs": [],
   "source": [
    "f(15,'test') "
   ]
  },
  {
   "cell_type": "code",
   "execution_count": null,
   "id": "18540586-4534-4787-b1fd-4d4b8db35fe5",
   "metadata": {},
   "outputs": [],
   "source": [
    "f(5,'test')"
   ]
  },
  {
   "cell_type": "code",
   "execution_count": null,
   "id": "a047dee9-8c05-4b4b-88c1-d322bea81844",
   "metadata": {},
   "outputs": [],
   "source": [
    "f(10,'test')"
   ]
  },
  {
   "cell_type": "markdown",
   "id": "93bdd2e9-946b-4809-aef2-353c936659f5",
   "metadata": {},
   "source": [
    "<p style=\"color:blue; font-size:25px; font-family: Algerian; text-align:left;\">vii</p>"
   ]
  },
  {
   "cell_type": "code",
   "execution_count": null,
   "id": "33eda4bc-03fb-4720-979e-6229549b3de6",
   "metadata": {},
   "outputs": [],
   "source": [
    "def f(a: int = 12, b: str = 'baz') -> float: \n",
    "    print(a, b) \n",
    "    return(3.5)  \n",
    "f()"
   ]
  },
  {
   "cell_type": "code",
   "execution_count": null,
   "id": "f2f8f3aa-270d-4cd6-917b-8dda5c60d6e4",
   "metadata": {},
   "outputs": [],
   "source": [
    "f.__annotations__ \n",
    " "
   ]
  },
  {
   "cell_type": "code",
   "execution_count": null,
   "id": "1ea5dea6-cc97-47b7-911e-b2caa0c44e9c",
   "metadata": {},
   "outputs": [],
   "source": [
    "f()"
   ]
  },
  {
   "cell_type": "code",
   "execution_count": null,
   "id": "a265680a-e7fa-45ef-bccc-52c56cf222d9",
   "metadata": {},
   "outputs": [],
   "source": [
    "f(20)"
   ]
  },
  {
   "cell_type": "code",
   "execution_count": null,
   "id": "739e1f93-cac9-41ca-a4eb-682472780fc8",
   "metadata": {},
   "outputs": [],
   "source": [
    "def f(a: int = 12, b: str = 'default_value') -> float: \n",
    "    print(a, b) \n",
    "    return(3.5)  \n",
    "f()"
   ]
  },
  {
   "cell_type": "code",
   "execution_count": null,
   "id": "600d9238-a789-4ec8-b90a-029f0b1ad16c",
   "metadata": {},
   "outputs": [],
   "source": [
    "def f(a: int = 12, b: str = 'baz') -> float: \n",
    "    print(a, b)\n",
    "    if a > 10:\n",
    "     return 7.5\n",
    "    else:    \n",
    "     return 3.5  \n",
    "f(11)"
   ]
  },
  {
   "cell_type": "code",
   "execution_count": null,
   "id": "ec6be751-b883-4ac0-96ec-c6cba5d396ee",
   "metadata": {},
   "outputs": [],
   "source": [
    "f(4)"
   ]
  },
  {
   "cell_type": "code",
   "execution_count": null,
   "id": "4ccb856c-ab91-4aaf-81a5-b8242180700f",
   "metadata": {},
   "outputs": [],
   "source": [
    "f(10)"
   ]
  },
  {
   "cell_type": "markdown",
   "id": "51a3d392-b3bc-4338-9b6b-574a44f3a10f",
   "metadata": {},
   "source": [
    "<p style=\"color:blue; font-size:25px; font-family: Algerian; text-align:left;\">viii</p>"
   ]
  },
  {
   "cell_type": "code",
   "execution_count": null,
   "id": "3ee72e9c-e69c-4072-9d5d-d2003b2bf6ca",
   "metadata": {},
   "outputs": [],
   "source": [
    "def f(a: int, b: str) -> float: \n",
    "    print(a, b) \n",
    "    return 1, 2, 3 \n",
    " \n",
    "f('foo', 2.5)"
   ]
  },
  {
   "cell_type": "code",
   "execution_count": null,
   "id": "e2cf9c63-86a9-4187-9da1-f860791b120a",
   "metadata": {},
   "outputs": [],
   "source": [
    "f.__annotations__ \n",
    " "
   ]
  },
  {
   "cell_type": "code",
   "execution_count": null,
   "id": "610ff872-9ed8-43b3-ac79-3658dbe16129",
   "metadata": {},
   "outputs": [],
   "source": [
    "f(20,8)"
   ]
  },
  {
   "cell_type": "code",
   "execution_count": null,
   "id": "c6a16ad6-1153-46eb-be57-d15831346cad",
   "metadata": {},
   "outputs": [],
   "source": [
    "from typing import Tuple\n",
    "def f(a: int, b: str) -> float: \n",
    "    print(a, b) \n",
    "    return 1, 2, 3 \n",
    "print(f(10,'example'))"
   ]
  },
  {
   "cell_type": "markdown",
   "id": "a6a1b5aa-5436-4d0b-a1e3-8e838c47f8d5",
   "metadata": {},
   "source": [
    "<p style=\"color:blue; font-size:25px; font-family: Algerian; text-align:left;\">String:</p> "
   ]
  },
  {
   "cell_type": "markdown",
   "id": "20cea5ed-1466-4dc2-89da-c3e5660a815b",
   "metadata": {},
   "source": [
    "<p style=\"color:blue; font-size:25px; font-family: Algerian; text-align:left;\">i. Use of escape sequences.</p>  "
   ]
  },
  {
   "cell_type": "code",
   "execution_count": null,
   "id": "69bb1f72-09a7-4270-93ae-6d7ed9d6ec4b",
   "metadata": {},
   "outputs": [],
   "source": [
    "text = \"i.\\tFirst item\\nii.\\tSecond item\\niii.\\tThird item\\niv.\\tFourth item\\nv.\\tFifth item\"\n",
    "print(text)\n"
   ]
  },
  {
   "cell_type": "markdown",
   "id": "be3137a2-84fb-4d1d-a744-ea62d98a8ad0",
   "metadata": {},
   "source": [
    "<p style=\"color:blue; font-size:25px; font-family: Algerian; text-align:left;\">ii. F-Strings for String Formatting</p>"
   ]
  },
  {
   "cell_type": "code",
   "execution_count": null,
   "id": "c3dbeebe-f224-4955-94dd-62220e10b422",
   "metadata": {},
   "outputs": [],
   "source": [
    "name = \"Alice\"\n",
    "age = 30\n",
    "city = \"Wonderland\"\n",
    "\n",
    "formatted_string = f\"{name} is {age} years old and lives in {city}.\"\n",
    "print(formatted_string)\n"
   ]
  },
  {
   "cell_type": "markdown",
   "id": "f730664b-fe44-43fa-8942-932a365d78f1",
   "metadata": {},
   "source": [
    "<p style=\"color:blue; font-size:25px; font-family: Algerian; text-align:left;\">iii. Using .capitalize() for String Capitalization</p>"
   ]
  },
  {
   "cell_type": "code",
   "execution_count": null,
   "id": "5876b5ea-1805-4de0-b36c-df576f7e0653",
   "metadata": {},
   "outputs": [],
   "source": [
    "string1 = \"hello world\".capitalize()  \n",
    "string2 = \"python programming\".capitalize()  \n",
    "string3 = \"welcome home\".capitalize()  \n",
    "\n",
    "print(string1, string2, string3)\n"
   ]
  },
  {
   "cell_type": "markdown",
   "id": "6f95d55a-4398-4ca5-9dc9-827cabfbbdbf",
   "metadata": {},
   "source": [
    "<p style=\"color:blue; font-size:25px; font-family: Algerian; text-align:left;\">iv.  Using .format(*args, **kwargs) for String Formatting</p>"
   ]
  },
  {
   "cell_type": "code",
   "execution_count": null,
   "id": "6f66fadc-6597-4e04-9aa6-234d541bf0f0",
   "metadata": {},
   "outputs": [],
   "source": [
    "formatted1 = \"Hello, {}. You are {} years old.\".format(\"Shehwar\", 18)\n",
    "formatted2 = \"The weather is {} today.\".format(\"sunny\")\n",
    "formatted3 = \"Your balance is ${:.2f}\".format(123.456)\n",
    "formatted4 = \"Item: {}, Quantity: {}\".format(\"Apples\", 5)\n",
    "formatted5 = \"User: {username}, Age: {age}\".format(username=\"khan\", age=22)\n",
    "\n",
    "print(formatted1)\n",
    "print(formatted2)\n",
    "print(formatted3)\n",
    "print(formatted4)\n",
    "print(formatted5)\n"
   ]
  },
  {
   "cell_type": "markdown",
   "id": "50fb795a-832b-4ef2-b11c-0e93b959547d",
   "metadata": {},
   "source": [
    "<p style=\"color:blue; font-size:25px; font-family: Algerian; text-align:left;\">v. Using .lower() for String Lowercase Conversion</p>"
   ]
  },
  {
   "cell_type": "code",
   "execution_count": null,
   "id": "6fca574f-f0c5-4fb8-8ba5-d7ca42e78352",
   "metadata": {},
   "outputs": [],
   "source": [
    "string1 = \"HELLO\".lower()  \n",
    "string2 = \"Python Programming\".lower()\n",
    "string3 = \"WELCOME HOME\".lower()  \n",
    "\n",
    "print(string1, string2, string3)\n"
   ]
  },
  {
   "cell_type": "markdown",
   "id": "cdf08de5-2f93-4a08-87ba-05ddddc9ef6b",
   "metadata": {},
   "source": [
    "<p style=\"color:blue; font-size:25px; font-family: Algerian; text-align:left;\">vi</p> "
   ]
  },
  {
   "cell_type": "markdown",
   "id": "8df01ede-2ff8-4a4b-a851-49c8d8c9f377",
   "metadata": {},
   "source": [
    "<p style=\"color:blue; font-size:25px; font-family: Algerian; text-align:left;\">1. Using .isdigit()</p>"
   ]
  },
  {
   "cell_type": "code",
   "execution_count": null,
   "id": "6fee6996-372e-4053-8801-e7ca6f0f1ec0",
   "metadata": {},
   "outputs": [],
   "source": [
    "string1 = \"12345\"\n",
    "string2 = \"123a45\"\n",
    "\n",
    "print(f'\"{string1}\" contains only digits: {string1.isdigit()}')  \n",
    "print(f'\"{string2}\" contains only digits: {string2.isdigit()}')  \n"
   ]
  },
  {
   "cell_type": "markdown",
   "id": "0f6bfe39-22ec-4470-a70a-3b97dd6071ef",
   "metadata": {},
   "source": [
    "<p style=\"color:blue; font-size:25px; font-family: Algerian; text-align:left;\">2. Using .islower()</p>"
   ]
  },
  {
   "cell_type": "code",
   "execution_count": null,
   "id": "c2314666-bad7-4a63-9e4c-6198b721a5dc",
   "metadata": {},
   "outputs": [],
   "source": [
    "string3 = \"hello\"\n",
    "string4 = \"Hello\"\n",
    "\n",
    "print(f'\"{string3}\" is all lowercase: {string3.islower()}')  \n",
    "print(f'\"{string4}\" is all lowercase: {string4.islower()}')  \n"
   ]
  },
  {
   "cell_type": "markdown",
   "id": "73ec9362-5a66-4713-833f-1161573dc0ab",
   "metadata": {},
   "source": [
    "<p style=\"color:blue; font-size:25px; font-family: Algerian; text-align:left;\">3. Using .isnumeric()</p>"
   ]
  },
  {
   "cell_type": "code",
   "execution_count": null,
   "id": "38c0e362-624b-4ad0-9933-89208a36e293",
   "metadata": {},
   "outputs": [],
   "source": [
    "string5 = \"12345\"\n",
    "string6 = \"123.45\"  \n",
    "\n",
    "print(f'\"{string5}\" is numeric: {string5.isnumeric()}')  \n",
    "print(f'\"{string6}\" is numeric: {string6.isnumeric()}')  \n"
   ]
  },
  {
   "cell_type": "markdown",
   "id": "4700318d-924b-47d2-bda2-eca96eaa0296",
   "metadata": {},
   "source": [
    "<p style=\"color:blue; font-size:25px; font-family: Algerian; text-align:left;\">vii. Using .split()</p>\n"
   ]
  },
  {
   "cell_type": "markdown",
   "id": "3cc0f125-c6fb-41f0-8e6b-43518d886661",
   "metadata": {},
   "source": [
    "<p style=\"color:blue; font-size:25px; font-family: Algerian; text-align:left;\">Example 1: Splitting by Whitespace</p>"
   ]
  },
  {
   "cell_type": "code",
   "execution_count": null,
   "id": "ba0898ee-730b-4760-aa7c-3de7820ccb68",
   "metadata": {},
   "outputs": [],
   "source": [
    "text1 = \"Hello world, this is Python.\"\n",
    "result1 = text1.split()\n",
    "\n",
    "print(f\"Original string: '{text1}'\")\n",
    "print(f\"Split result: {result1}\")  \n"
   ]
  },
  {
   "cell_type": "markdown",
   "id": "2de04c11-dc68-4f67-802b-a58faa5b0954",
   "metadata": {},
   "source": [
    "# Example 2: Splitting by a Specific Delimiter"
   ]
  },
  {
   "cell_type": "code",
   "execution_count": null,
   "id": "ab2d32dc-45f3-449e-934a-9086a03a2bc2",
   "metadata": {},
   "outputs": [],
   "source": [
    "text2 = \"apple,banana,cherry,date\"\n",
    "result2 = text2.split(\",\")\n",
    "\n",
    "print(f\"Original string: '{text2}'\")\n",
    "print(f\"Split result: {result2}\") \n"
   ]
  },
  {
   "cell_type": "markdown",
   "id": "f5fa6af9-3290-4d14-a595-ff4e557e4c3b",
   "metadata": {},
   "source": [
    "# LAB:10 COMPLETED BY NAME: MUHAMMAD REHAN.\n",
    "# REG NO: 23JZELE0522.\n",
    "# SECTI0N: A"
   ]
  }
 ],
 "metadata": {
  "kernelspec": {
   "display_name": "Python 3 (ipykernel)",
   "language": "python",
   "name": "python3"
  },
  "language_info": {
   "codemirror_mode": {
    "name": "ipython",
    "version": 3
   },
   "file_extension": ".py",
   "mimetype": "text/x-python",
   "name": "python",
   "nbconvert_exporter": "python",
   "pygments_lexer": "ipython3",
   "version": "3.12.4"
  }
 },
 "nbformat": 4,
 "nbformat_minor": 5
}
