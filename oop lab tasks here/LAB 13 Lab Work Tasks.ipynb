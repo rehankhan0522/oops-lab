{
 "cells": [
  {
   "cell_type": "markdown",
   "id": "6c86b010-2a23-415c-a7c2-7dcfd26a42d4",
   "metadata": {},
   "source": [
    "## <p style=\"color:black ; font-size:34px; font-family: Algerian ; text-align:center;\">Lab Title: EE:271 \"OOP & Data Structures\""
   ]
  },
  {
   "cell_type": "markdown",
   "id": "076937c5-a648-43cf-8f91-69a57a932f40",
   "metadata": {},
   "source": [
    "***"
   ]
  },
  {
   "cell_type": "markdown",
   "id": "8a1c9531-9c14-4cb3-a04a-0192432f8e90",
   "metadata": {},
   "source": [
    "## <p style=\"color:red ; font-size:32px; font-family: Algerian ; text-align:center;\">PRIORITY QUEUE "
   ]
  },
  {
   "cell_type": "markdown",
   "id": "f88ea8dd-2ec1-4f20-81ce-e4cbeb47ee91",
   "metadata": {},
   "source": [
    "<p style=\"color:blue ; font-size:28px; font-family: Algerian ;\">1.Lab Work Task:"
   ]
  },
  {
   "cell_type": "markdown",
   "id": "dfccaef7-06eb-4e58-83d5-457f81ae56c3",
   "metadata": {},
   "source": [
    "Importing heapq for priority queue:\n",
    "We use the heapq module for its efficient implementation of a binary heap, which is \n",
    "the underlying data structure for our priority queue."
   ]
  },
  {
   "cell_type": "code",
   "execution_count": 7,
   "id": "bcba0d15-d29f-4c08-9e80-a533bd53acd3",
   "metadata": {},
   "outputs": [],
   "source": [
    "import heapq"
   ]
  },
  {
   "cell_type": "markdown",
   "id": "f9f1f9c7-31ab-471c-b5a3-f8aa2a338540",
   "metadata": {},
   "source": [
    "<p style=\"color:blue ; font-size:28px; font-family: Algerian ;\">2.Enqueue (Insert):"
   ]
  },
  {
   "cell_type": "code",
   "execution_count": 10,
   "id": "7537eccd-1524-4324-b5b7-a9bae4c74a02",
   "metadata": {},
   "outputs": [],
   "source": [
    "import heapq\n",
    "def enqueue(self, data, priority):\n",
    "    heapq.heappush(self.heap, (priority, data))"
   ]
  },
  {
   "cell_type": "markdown",
   "id": "6c67c3df-9ccc-4550-aa4b-0d3d5394ec27",
   "metadata": {},
   "source": [
    "## <p style=\"color:blue ; font-size:32px; font-family: Algerian ; text-align:center;\">IMPLEMENTING PUSH OPERATION:\n",
    "<p style=\"color:blue ; font-size:28px; font-family: Algerian ;\">CODE:"
   ]
  },
  {
   "cell_type": "code",
   "execution_count": 13,
   "id": "ff4ad390-2c02-4aab-b35b-51360825b841",
   "metadata": {},
   "outputs": [],
   "source": [
    "from heapq import heappush\n",
    "fruits = []\n",
    "heappush(fruits, \"orange\")\n",
    "heappush(fruits, \"apple\")\n",
    "heappush(fruits, \"banana\")"
   ]
  },
  {
   "cell_type": "code",
   "execution_count": 15,
   "id": "8464b448-3b35-4276-ab0e-6ff4bb03ca1c",
   "metadata": {},
   "outputs": [
    {
     "name": "stdout",
     "output_type": "stream",
     "text": [
      "['apple', 'orange', 'banana']\n"
     ]
    }
   ],
   "source": [
    "print(fruits)"
   ]
  },
  {
   "cell_type": "markdown",
   "id": "4a502306-4df9-4d86-9c43-2708519019ec",
   "metadata": {},
   "source": [
    "<p style=\"color:blue ; font-size:28px; font-family: Algerian ;\">3.Dequeue (Remove):"
   ]
  },
  {
   "cell_type": "code",
   "execution_count": 18,
   "id": "44759359-fd0c-4766-acbd-8461f01d7297",
   "metadata": {},
   "outputs": [
    {
     "data": {
      "text/plain": [
       "['banana', 'orange']"
      ]
     },
     "execution_count": 18,
     "metadata": {},
     "output_type": "execute_result"
    }
   ],
   "source": [
    "from heapq import heappop\n",
    "heappop(fruits)\n",
    "fruits"
   ]
  },
  {
   "cell_type": "markdown",
   "id": "abfd2c9d-7aee-484f-8d5c-b34189467d99",
   "metadata": {},
   "source": [
    "<p style=\"color:blue ; font-size:28px; font-family: Algerian ;\">COMPAIRING STRING OBJECTS:"
   ]
  },
  {
   "cell_type": "code",
   "execution_count": 21,
   "id": "19ef456b-66fc-4915-819f-ce123a906d7d",
   "metadata": {},
   "outputs": [],
   "source": [
    "Person1 = (\"John\", \"Brown\", 42)\n",
    "person2 = (\"John\", \"Doe\", 42)\n",
    "person3 = (\"John\", \"Doe\", 24)"
   ]
  },
  {
   "cell_type": "code",
   "execution_count": 23,
   "id": "f8b37503-00b3-4a9a-9fb9-3bef56fe8bf6",
   "metadata": {},
   "outputs": [
    {
     "data": {
      "text/plain": [
       "True"
      ]
     },
     "execution_count": 23,
     "metadata": {},
     "output_type": "execute_result"
    }
   ],
   "source": [
    "Person1 < person2"
   ]
  },
  {
   "cell_type": "code",
   "execution_count": 25,
   "id": "5dd58239-0021-4296-ac09-9a1083535dd7",
   "metadata": {},
   "outputs": [
    {
     "data": {
      "text/plain": [
       "False"
      ]
     },
     "execution_count": 25,
     "metadata": {},
     "output_type": "execute_result"
    }
   ],
   "source": [
    "person2 < person3"
   ]
  },
  {
   "cell_type": "markdown",
   "id": "1de3f8bb-6fb8-4e17-9beb-4789760ec4d1",
   "metadata": {},
   "source": [
    "<p style=\"color:blue ; font-size:28px; font-family: Algerian ;\">4.BUILDING PRIORITY QUEUE DATA TYPE:"
   ]
  },
  {
   "cell_type": "markdown",
   "id": "031bb0da-81d6-4ca3-bb43-c31156cf8148",
   "metadata": {},
   "source": [
    "a. To build a priority queue data type, you can use the heapq module in Python, which \n",
    "provides a convenient way to implement a priority queue using a binary heap."
   ]
  },
  {
   "cell_type": "markdown",
   "id": "5976b3c7-ae65-4bb0-91a7-8ebbb887eac3",
   "metadata": {},
   "source": [
    "<p style=\"color:blue ; font-size:28px; font-family: Algerian ;\">CODE:"
   ]
  },
  {
   "cell_type": "code",
   "execution_count": 30,
   "id": "29657492-0a0e-4b26-9823-8153fba718f5",
   "metadata": {},
   "outputs": [],
   "source": [
    "from collections import deque\n",
    "from heapq import heappop, heappush\n",
    "\n",
    "class PriorityQueue:\n",
    "    def __init__(self):\n",
    "        self._elements = []\n",
    "\n",
    "    def enqueue_with_priority(self, priority, value):\n",
    "        heappush(self._elements, (priority, value))\n",
    "\n",
    "    def dequeue(self):\n",
    "        return heappop(self._elements)"
   ]
  },
  {
   "cell_type": "markdown",
   "id": "ae7d6a62-ab2f-4b3a-9f95-ba10c27b2a55",
   "metadata": {},
   "source": [
    "i. It’s a basic priority queue implementation, which defines a heap of elements using a \n",
    "Python list and two methods that manipulate it. The enqueue_with_priority() method \n",
    "takes two arguments, a priority and a corresponding value."
   ]
  },
  {
   "cell_type": "code",
   "execution_count": 4,
   "id": "0ef584e1-42ea-466c-bd91-a4f89482dad6",
   "metadata": {},
   "outputs": [],
   "source": [
    "CRITICAL = 3\n",
    "IMPORTANT = 2\n",
    "NEUTRAL = 1\n",
    "\n",
    "messages = PriorityQueue()\n",
    "\n",
    "messages.enqueue_with_priority(IMPORTANT, \"Windshield wipers turned on\")\n",
    "messages.enqueue_with_priority(NEUTRAL, \"Radio station tuned in\")\n",
    "messages.enqueue_with_priority(CRITICAL, \"Brake pedal depressed\")\n",
    "messages.enqueue_with_priority(IMPORTANT, \"Hazard lights turned on\")"
   ]
  },
  {
   "cell_type": "markdown",
   "id": "1b110cb3-bdca-4214-8e5f-7a090175302c",
   "metadata": {},
   "source": [
    "RUN THE FOLLOWING CODES:"
   ]
  },
  {
   "cell_type": "code",
   "execution_count": 5,
   "id": "b63523eb-97fb-4572-b367-6c9ce0e1cc1f",
   "metadata": {},
   "outputs": [
    {
     "data": {
      "text/plain": [
       "[(-3, 'Brake pedal depressed'),\n",
       " (-2, 'Hazard lights turned on'),\n",
       " (-2, 'Windshield wipers turned on'),\n",
       " (-1, 'Radio station tuned in')]"
      ]
     },
     "execution_count": 5,
     "metadata": {},
     "output_type": "execute_result"
    }
   ],
   "source": [
    "messages._elements"
   ]
  },
  {
   "cell_type": "code",
   "execution_count": 6,
   "id": "949ed585-c747-4830-a12c-569ff662962e",
   "metadata": {},
   "outputs": [
    {
     "data": {
      "text/plain": [
       "'Brake pedal depressed'"
      ]
     },
     "execution_count": 6,
     "metadata": {},
     "output_type": "execute_result"
    }
   ],
   "source": [
    "messages.dequeue()"
   ]
  },
  {
   "cell_type": "markdown",
   "id": "b3f60dca-a1f3-4bf0-bf36-fea0b8c1a018",
   "metadata": {},
   "source": [
    "<p style=\"color:blue ; font-size:28px; font-family: Algerian ;\">5.NEGATIVE PRIORITY:\n",
    "\n",
    "i. By just making the priority negative you will get With this small change, you’ll push \n",
    "critical messages ahead of important and neutral ones.\n",
    "ii. You will unpack the value from the tuple by accessing its second component, located \n",
    "at index one using the square bracket ( [ ] ) syntax."
   ]
  },
  {
   "cell_type": "code",
   "execution_count": 7,
   "id": "cc6e711d-7250-4e42-97b0-2fdaaaa11687",
   "metadata": {},
   "outputs": [],
   "source": [
    "import heapq\n",
    "class PriorityQueue:\n",
    "    def __init__(self):\n",
    "        self._elements = []\n",
    "    def enqueue_with_priority(self, priority, value):\n",
    "        heapq.heappush(self._elements, (-priority, value))\n",
    "    def dequeue(self):\n",
    "        return heapq.heappop(self._elements)[1]"
   ]
  },
  {
   "cell_type": "markdown",
   "id": "ff1a8bbf-a3eb-43bc-a54b-0a3012659ab5",
   "metadata": {},
   "source": [
    "NOW RUN THE FOLLOWING CODE:"
   ]
  },
  {
   "cell_type": "code",
   "execution_count": 8,
   "id": "66051ef1-4345-491e-bcbf-5420ee13c3c8",
   "metadata": {},
   "outputs": [
    {
     "data": {
      "text/plain": [
       "'Hazard lights turned on'"
      ]
     },
     "execution_count": 8,
     "metadata": {},
     "output_type": "execute_result"
    }
   ],
   "source": [
    "messages.dequeue()"
   ]
  },
  {
   "cell_type": "code",
   "execution_count": 9,
   "id": "10cc83c9-2d9d-4482-91c4-e937b6760fa7",
   "metadata": {},
   "outputs": [
    {
     "data": {
      "text/plain": [
       "'Windshield wipers turned on'"
      ]
     },
     "execution_count": 9,
     "metadata": {},
     "output_type": "execute_result"
    }
   ],
   "source": [
    "messages.dequeue()"
   ]
  },
  {
   "cell_type": "code",
   "execution_count": 10,
   "id": "a102f2a5-73a6-4a8d-b769-83bb841e64e0",
   "metadata": {},
   "outputs": [
    {
     "data": {
      "text/plain": [
       "'Radio station tuned in'"
      ]
     },
     "execution_count": 10,
     "metadata": {},
     "output_type": "execute_result"
    }
   ],
   "source": [
    "messages.dequeue()"
   ]
  },
  {
   "cell_type": "markdown",
   "id": "29c9ca58-81f9-420a-acbe-bfc5686e41c9",
   "metadata": {},
   "source": [
    "## <p style=\"color:black ; font-size:35px; font-family: Algerian ; text-align:center;\">HANDLING CORNER CASES IN PRIORITY QUEUE:\n",
    "<p style=\"color:blue ; font-size:28px; font-family: Algerian ;\">COMPARISON CASE:\n",
    "<p style=\"color:blue ; font-size:28px; font-family: Algerian ;\">CODE:"
   ]
  },
  {
   "cell_type": "code",
   "execution_count": 12,
   "id": "9053165f-fe43-403b-bd6e-a76b97939530",
   "metadata": {},
   "outputs": [],
   "source": [
    "from dataclasses import dataclass\n",
    "@dataclass\n",
    "class Message:\n",
    "    event: str"
   ]
  },
  {
   "cell_type": "code",
   "execution_count": 13,
   "id": "0c6c40d2-e89d-44fe-8127-3f8f66061d87",
   "metadata": {},
   "outputs": [],
   "source": [
    "wipers = Message(\"Windshield wipers turned on\")\n",
    "hazard_lights = Message(\"Hazard lights turned on\")"
   ]
  },
  {
   "cell_type": "markdown",
   "id": "06621be1-c9dd-4ab5-a603-6200e8256f69",
   "metadata": {},
   "source": [
    "NOW RUN THE FOLLOWING CODE AND OBSERVE OUTPUT:"
   ]
  },
  {
   "cell_type": "code",
   "execution_count": 14,
   "id": "875b0f98-5ae8-4234-be9e-faaf5848ba95",
   "metadata": {},
   "outputs": [],
   "source": [
    "messages = PriorityQueue()\n",
    "messages.enqueue_with_priority(CRITICAL, wipers)\n",
    "messages.enqueue_with_priority(IMPORTANT, hazard_lights)"
   ]
  },
  {
   "cell_type": "markdown",
   "id": "ae12a238-d5e9-47aa-9ba4-d72ac5fdc75a",
   "metadata": {},
   "source": [
    "NOW RUN THE CODE AND OBSERVE OUTPUT:"
   ]
  },
  {
   "cell_type": "markdown",
   "id": "8ec333f6-c308-434c-9bd3-28db8ca038da",
   "metadata": {},
   "source": [
    "You can use the count() iterator from the itertools module to count from zero to infinity in a \n",
    "concise way:"
   ]
  },
  {
   "cell_type": "code",
   "execution_count": 64,
   "id": "94fd338c-be09-471e-9aa9-113b4f0c2b13",
   "metadata": {},
   "outputs": [],
   "source": [
    "from collections import deque\n",
    "from heapq import heappop, heappush\n",
    "from itertools import count\n",
    "\n",
    "class PriorityQueue:\n",
    "    def __init__(self):\n",
    "        self._elements = []\n",
    "        self._counter = count()\n",
    "\n",
    "    def enqueue_with_priority(self, priority, value):\n",
    "        element = (-priority, next(self._counter), value)  # Use a tuple for priority, counter, and value\n",
    "        heappush(self._elements, element)\n",
    "\n",
    "    def dequeue(self):\n",
    "        return heappop(self._elements)[-1]  # Return the last element of the popped tuple (the value)"
   ]
  },
  {
   "cell_type": "markdown",
   "id": "7bd3b6c7-cbfa-4768-a9ac-fc7990533ae1",
   "metadata": {},
   "source": [
    "Refactoring The Code Using A Mixin Class:"
   ]
  },
  {
   "cell_type": "markdown",
   "id": "462753a8-c6d9-4a2e-92eb-b0fa8f512f2b",
   "metadata": {},
   "source": [
    "Now we will make the same code using mixin clases __len__ and _iter__."
   ]
  },
  {
   "cell_type": "code",
   "execution_count": 68,
   "id": "b3c89d48-2166-4578-b81f-dc738d1d61d3",
   "metadata": {},
   "outputs": [],
   "source": [
    "class IterableMixin:\n",
    "    def __len__(self):\n",
    "        return len(self._elements)\n",
    "\n",
    "    def __iter__(self):\n",
    "        while len(self) > 0:\n",
    "            yield self.dequeue()"
   ]
  },
  {
   "cell_type": "markdown",
   "id": "a3e167f1-46ec-4efe-a3b4-d4f30f5d0d1f",
   "metadata": {},
   "source": [
    "<p style=\"color:blue ; font-size:28px; font-family: Algerian ;\">ENCOURAGING :"
   ]
  },
  {
   "cell_type": "markdown",
   "id": "21d619dd-e2fe-45ce-8ff4-2c89f03f5036",
   "metadata": {},
   "source": [
    " You moved the .__len__() and .__iter__() methods from the Queue class to a \n",
    "separate IterableMixin class and made the former extend that mixin"
   ]
  },
  {
   "cell_type": "code",
   "execution_count": 1,
   "id": "96358d4d-d38c-4c6c-a7fc-e01901eb1eaf",
   "metadata": {},
   "outputs": [],
   "source": [
    "from collections import deque\n",
    "from heapq import heappop, heappush\n",
    "from itertools import count"
   ]
  },
  {
   "cell_type": "code",
   "execution_count": null,
   "id": "4cb66980-11cd-4498-ac12-f34a7ae20d6a",
   "metadata": {},
   "outputs": [],
   "source": [
    "class Stack(Queue):\n",
    "    def dequeue(self):\n",
    "        return self._elements.pop()\n",
    "\n",
    "class PriorityQueue(IterableMixin):\n",
    "    def __init__(self):\n",
    "        self._elements = []\n",
    "        self._counter = count()\n",
    "\n",
    "    def enqueue_with_priority(self, priority, value):\n",
    "        element = (-priority, next(self._counter), value)\n",
    "        heappush(self._elements, element)\n",
    "\n",
    "    def dequeue(self):\n",
    "        return heappop(self._elements)[-1]\n",
    "\n",
    "class IterableMixin:\n",
    "    def __len__(self):\n",
    "        return len(self._elements)\n",
    "\n",
    "    def __iter__(self):\n",
    "        while len(self) > 0:\n",
    "            yield self.dequeue()\n",
    "\n",
    "class Queue(IterableMixin):\n",
    "    def __init__(self, *elements):\n",
    "        self._elements = deque(elements)\n",
    "\n",
    "    def enqueue(self, element):\n",
    "        self._elements.append(element)\n",
    "\n",
    "    def dequeue(self):\n",
    "        return self._elements.popleft()"
   ]
  },
  {
   "cell_type": "code",
   "execution_count": null,
   "id": "d5719584-3c85-4164-b5ee-4954a3510ca7",
   "metadata": {},
   "outputs": [],
   "source": [
    "Queue outputs:\n",
    "1\n",
    "2\n",
    "3\n",
    "4\n",
    "5\n",
    "\n",
    "Stack outputs:\n",
    "5\n",
    "4\n",
    "3\n",
    "2\n",
    "1\n",
    "\n",
    "PriorityQueue outputs:\n",
    "high\n",
    "medium\n",
    "low"
   ]
  },
  {
   "cell_type": "markdown",
   "id": "b2f3e1e0-a8e9-4b33-bdf9-00a476aa4277",
   "metadata": {},
   "source": [
    "# LAB:10 COMPLETED BY NAME: MUHAMMAD REHAN.\n",
    "# REG NO: 23JZELE0522.\n",
    "# SECTI0N: A"
   ]
  }
 ],
 "metadata": {
  "kernelspec": {
   "display_name": "Python 3 (ipykernel)",
   "language": "python",
   "name": "python3"
  },
  "language_info": {
   "codemirror_mode": {
    "name": "ipython",
    "version": 3
   },
   "file_extension": ".py",
   "mimetype": "text/x-python",
   "name": "python",
   "nbconvert_exporter": "python",
   "pygments_lexer": "ipython3",
   "version": "3.12.4"
  }
 },
 "nbformat": 4,
 "nbformat_minor": 5
}
